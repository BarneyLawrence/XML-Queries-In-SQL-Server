{
    "metadata": {
        "kernelspec": {
            "name": "SQL",
            "display_name": "SQL",
            "language": "sql"
        },
        "language_info": {
            "name": "sql",
            "version": ""
        }
    },
    "nbformat_minor": 2,
    "nbformat": 4,
    "cells": [
        {
            "cell_type": "markdown",
            "source": [
                "# Querying XML In SQL Server – Part 6 – Sequencing Elements and Finding Positions\n",
                "\n",
                "_XML Elements aren’t always neatly labelled with a unique identifier which makes joining different levels back together in the database tricky. In this post we look at a number of solutions to this issue._\n",
                "\n",
                "This post looks at a problem that can come up in XML messages that have perhaps not been thought out as well as we’d like and where we can’t uniquely identify one instance of a repeating element. The example we’ve used so far avoids this problem so we’ll switch to a sample that illustrates this problem."
            ],
            "metadata": {
                "azdata_cell_guid": "a1ea6526-4e9f-434b-b170-587bd89fd2d9"
            }
        },
        {
            "cell_type": "code",
            "source": [
                "CREATE TABLE #MyXML (MyXML XML NOT NULL);\r\n",
                "  \r\n",
                "INSERT INTO #MyXML(MyXML)\r\n",
                "VALUES\r\n",
                "(\r\n",
                "'\r\n",
                "<Order name=\"XML User Group\">\r\n",
                "    <Pizza size=\"medium\">\r\n",
                "        <Topping>Mushrooms</Topping>\r\n",
                "        <Topping>Ham</Topping>\r\n",
                "        <Topping>Jalapenos</Topping>\r\n",
                "    </Pizza>\r\n",
                "    <Pizza size=\"medium\">\r\n",
                "        <Topping>Pineapple</Topping>\r\n",
                "        <Topping>Onion</Topping>\r\n",
                "        <Topping>Jalapenos</Topping>\r\n",
                "    </Pizza>\r\n",
                "    <Pizza size=\"large\">\r\n",
                "        <Topping>Pepperoni</Topping>\r\n",
                "        <Topping>Extra Cheese</Topping>\r\n",
                "    </Pizza>\r\n",
                "</Order>\r\n",
                "'\r\n",
                ");\r\n",
                "  \r\n",
                "SELECT\r\n",
                "X.MyXML.value('Order[1]/@name', 'varchar(50)') AS Name,\r\n",
                "Pizza.PizzaXML.value('./@size', 'varchar(50)') AS Size,\r\n",
                "Topping.ToppingXML.value('.', 'varchar(50)') AS Topping\r\n",
                "FROM #MyXML AS X\r\n",
                "CROSS APPLY X.MyXML.nodes('Order/Pizza') AS Pizza(PizzaXML)\r\n",
                "CROSS APPLY Pizza.PizzaXML.nodes('Topping') AS Topping(ToppingXML);"
            ],
            "metadata": {
                "azdata_cell_guid": "28f75e90-3789-4639-8be6-b4fe14f3115d"
            },
            "outputs": [
                {
                    "output_type": "display_data",
                    "data": {
                        "text/html": "(1 row affected)"
                    },
                    "metadata": {}
                },
                {
                    "output_type": "display_data",
                    "data": {
                        "text/html": "(8 rows affected)"
                    },
                    "metadata": {}
                },
                {
                    "output_type": "display_data",
                    "data": {
                        "text/html": "Total execution time: 00:00:00.098"
                    },
                    "metadata": {}
                },
                {
                    "output_type": "execute_result",
                    "metadata": {},
                    "execution_count": 1,
                    "data": {
                        "application/vnd.dataresource+json": {
                            "schema": {
                                "fields": [
                                    {
                                        "name": "Name"
                                    },
                                    {
                                        "name": "Size"
                                    },
                                    {
                                        "name": "Topping"
                                    }
                                ]
                            },
                            "data": [
                                {
                                    "0": "XML User Group",
                                    "1": "medium",
                                    "2": "Mushrooms"
                                },
                                {
                                    "0": "XML User Group",
                                    "1": "medium",
                                    "2": "Ham"
                                },
                                {
                                    "0": "XML User Group",
                                    "1": "medium",
                                    "2": "Jalapenos"
                                },
                                {
                                    "0": "XML User Group",
                                    "1": "medium",
                                    "2": "Pineapple"
                                },
                                {
                                    "0": "XML User Group",
                                    "1": "medium",
                                    "2": "Onion"
                                },
                                {
                                    "0": "XML User Group",
                                    "1": "medium",
                                    "2": "Jalapenos"
                                },
                                {
                                    "0": "XML User Group",
                                    "1": "large",
                                    "2": "Pepperoni"
                                },
                                {
                                    "0": "XML User Group",
                                    "1": "large",
                                    "2": "Extra Cheese"
                                }
                            ]
                        },
                        "text/html": [
                            "<table>",
                            "<tr><th>Name</th><th>Size</th><th>Topping</th></tr>",
                            "<tr><td>XML User Group</td><td>medium</td><td>Mushrooms</td></tr>",
                            "<tr><td>XML User Group</td><td>medium</td><td>Ham</td></tr>",
                            "<tr><td>XML User Group</td><td>medium</td><td>Jalapenos</td></tr>",
                            "<tr><td>XML User Group</td><td>medium</td><td>Pineapple</td></tr>",
                            "<tr><td>XML User Group</td><td>medium</td><td>Onion</td></tr>",
                            "<tr><td>XML User Group</td><td>medium</td><td>Jalapenos</td></tr>",
                            "<tr><td>XML User Group</td><td>large</td><td>Pepperoni</td></tr>",
                            "<tr><td>XML User Group</td><td>large</td><td>Extra Cheese</td></tr>",
                            "</table>"
                        ]
                    }
                }
            ],
            "execution_count": 1
        },
        {
            "cell_type": "markdown",
            "source": [
                "How many Pizzas do we have? Which toppings go on which pizza? Will the vegetarians of the XML User Group go hungry?  \n",
                "The problem here is we have two elements with the same value (medium) and when we convert to rows in the table we lose the structure that would allow us to identify which toppings belong to which.  \n",
                "I’d love to say the solution is to just ask the developers of the source system to change the XML, but the answer to that request in most cases will be a two letter word beginning with N so what can we do instead?\n",
                "\n",
                "## How do I Sequence XML Elements in SQL Server With a Numbers Table?\n",
                "\n",
                "One common solution has already appeared back in [part 2](https://barneylawrence.com/2021/03/23/querying-xml-in-sql-server-part-2-simple-paths-and-attributes-with-the-value-method/), if we have a list of numbers we can push them in to the query to pick out the pizzas one at a time.  \n",
                "The query looks something like this:"
            ],
            "metadata": {
                "azdata_cell_guid": "c9120851-29af-472f-bf25-bb87eb01f125"
            }
        },
        {
            "cell_type": "code",
            "source": [
                "With MyNumbers AS\r\n",
                "(\r\n",
                "SELECT N\r\n",
                "FROM (VALUES(1),(2),(3),(4),(5),(6),(7)) AS N(N)\r\n",
                ")\r\n",
                "SELECT\r\n",
                "MyNumbers.N,\r\n",
                "X.MyXML.value('(Order/Pizza[sql:column(\"MyNumbers.N\")]/@size)[1]' ,'varchar(50)')  AS Size\r\n",
                ",Topping.ToppingXML.value('.', 'varchar(50)') AS Topping\r\n",
                "FROM  #MyXML AS X\r\n",
                "CROSS JOIN MyNumbers\r\n",
                "OUTER APPLY X.MyXML.nodes('Order/Pizza[sql:column(\"MyNumbers.N\")]/Topping') AS Topping(ToppingXML)\r\n",
                "ORDER BY N;"
            ],
            "metadata": {
                "azdata_cell_guid": "d958b973-ae93-4ec1-a753-efdc7c830452"
            },
            "outputs": [
                {
                    "output_type": "display_data",
                    "data": {
                        "text/html": "(12 rows affected)"
                    },
                    "metadata": {}
                },
                {
                    "output_type": "display_data",
                    "data": {
                        "text/html": "Total execution time: 00:00:00.045"
                    },
                    "metadata": {}
                },
                {
                    "output_type": "execute_result",
                    "metadata": {},
                    "execution_count": 2,
                    "data": {
                        "application/vnd.dataresource+json": {
                            "schema": {
                                "fields": [
                                    {
                                        "name": "N"
                                    },
                                    {
                                        "name": "Size"
                                    },
                                    {
                                        "name": "Topping"
                                    }
                                ]
                            },
                            "data": [
                                {
                                    "0": "1",
                                    "1": "medium",
                                    "2": "Mushrooms"
                                },
                                {
                                    "0": "1",
                                    "1": "medium",
                                    "2": "Ham"
                                },
                                {
                                    "0": "1",
                                    "1": "medium",
                                    "2": "Jalapenos"
                                },
                                {
                                    "0": "2",
                                    "1": "medium",
                                    "2": "Pineapple"
                                },
                                {
                                    "0": "2",
                                    "1": "medium",
                                    "2": "Onion"
                                },
                                {
                                    "0": "2",
                                    "1": "medium",
                                    "2": "Jalapenos"
                                },
                                {
                                    "0": "3",
                                    "1": "large",
                                    "2": "Pepperoni"
                                },
                                {
                                    "0": "3",
                                    "1": "large",
                                    "2": "Extra Cheese"
                                },
                                {
                                    "0": "4",
                                    "1": "NULL",
                                    "2": "NULL"
                                },
                                {
                                    "0": "5",
                                    "1": "NULL",
                                    "2": "NULL"
                                },
                                {
                                    "0": "6",
                                    "1": "NULL",
                                    "2": "NULL"
                                },
                                {
                                    "0": "7",
                                    "1": "NULL",
                                    "2": "NULL"
                                }
                            ]
                        },
                        "text/html": [
                            "<table>",
                            "<tr><th>N</th><th>Size</th><th>Topping</th></tr>",
                            "<tr><td>1</td><td>medium</td><td>Mushrooms</td></tr>",
                            "<tr><td>1</td><td>medium</td><td>Ham</td></tr>",
                            "<tr><td>1</td><td>medium</td><td>Jalapenos</td></tr>",
                            "<tr><td>2</td><td>medium</td><td>Pineapple</td></tr>",
                            "<tr><td>2</td><td>medium</td><td>Onion</td></tr>",
                            "<tr><td>2</td><td>medium</td><td>Jalapenos</td></tr>",
                            "<tr><td>3</td><td>large</td><td>Pepperoni</td></tr>",
                            "<tr><td>3</td><td>large</td><td>Extra Cheese</td></tr>",
                            "<tr><td>4</td><td>NULL</td><td>NULL</td></tr>",
                            "<tr><td>5</td><td>NULL</td><td>NULL</td></tr>",
                            "<tr><td>6</td><td>NULL</td><td>NULL</td></tr>",
                            "<tr><td>7</td><td>NULL</td><td>NULL</td></tr>",
                            "</table>"
                        ]
                    }
                }
            ],
            "execution_count": 2
        },
        {
            "cell_type": "markdown",
            "source": [
                "And we have our numbering. This is the solution that you’ll probably find if you hit Google or StackOverflow. It works, it looks neat and it’s nicely self contained. There are possible issues with it unfortunately. The first is that we’ve specified our numbers. What if we have more than seven pizzas? We loose the rest. The observant might also notice I’ve swapped to OUTER APPLY to illustrate another issue, SQL Server doesn’t know how many nodes are in the XML and so just keeps on trying with all our numbers giving us empty results when there’s no match.  \n",
                "My hands on experience suggests that while this approach works for small sized XML messages, if you have thousands of messages each with potentially hundreds of elements then performance nosedives fast particularly if you have a high variance in the numbers (100 every time is less of a problem than a random number between 1 and 1000).  \n",
                "There are ways to mitigate this (use the [query method](https://barneylawrence.com/2021/04/21/querying-xml-in-sql-server-part-5-an-introduction-to-the-query-method-and-xquery/) to count the nodes and then limit the numbers pushed in) but they get messy and one begins to question if the work put into the fix outweighs the benefits of it.\n",
                "\n",
                "## How do I Sequence XML Elements in SQL Server With a Window Function?\n",
                "\n",
                "We could look to using window functions to sequence the XML elements like this:"
            ],
            "metadata": {
                "azdata_cell_guid": "2c51fc54-8aed-4e57-a8db-5dc74461acf3"
            }
        },
        {
            "cell_type": "code",
            "source": [
                "WITH Pizzas AS\r\n",
                "(\r\n",
                "SELECT\r\n",
                "X.MyXML.value('Order[1]/@name', 'varchar(50)') AS Name,\r\n",
                "ROW_NUMBER() OVER (ORDER BY (SELECT 1)) AS PizzaSequence,\r\n",
                "Pizza.PizzaXML.value('./@size', 'varchar(50)') AS Size,\r\n",
                "Pizza.PizzaXML.query('.') AS PizzaXML\r\n",
                "FROM #MyXML AS X\r\n",
                "CROSS APPLY X.MyXML.nodes('Order/Pizza') AS Pizza(PizzaXML)\r\n",
                ")\r\n",
                "SELECT\r\n",
                "Pizzas.PizzaSequence,\r\n",
                "Pizzas.Size,\r\n",
                "Topping.ToppingXML.value('.', 'varchar(50)') AS Topping,\r\n",
                "PizzaXML\r\n",
                "FROM Pizzas\r\n",
                "OUTER APPLY Pizzas.PizzaXML.nodes('Pizza/Topping') AS Topping(ToppingXML);"
            ],
            "metadata": {
                "azdata_cell_guid": "83b71789-3744-4fdc-9d9a-fdecb56d343a"
            },
            "outputs": [
                {
                    "output_type": "display_data",
                    "data": {
                        "text/html": "(8 rows affected)"
                    },
                    "metadata": {}
                },
                {
                    "output_type": "display_data",
                    "data": {
                        "text/html": "Total execution time: 00:00:00.039"
                    },
                    "metadata": {}
                },
                {
                    "output_type": "execute_result",
                    "metadata": {},
                    "execution_count": 3,
                    "data": {
                        "application/vnd.dataresource+json": {
                            "schema": {
                                "fields": [
                                    {
                                        "name": "PizzaSequence"
                                    },
                                    {
                                        "name": "Size"
                                    },
                                    {
                                        "name": "Topping"
                                    },
                                    {
                                        "name": "PizzaXML"
                                    }
                                ]
                            },
                            "data": [
                                {
                                    "0": "1",
                                    "1": "medium",
                                    "2": "Mushrooms",
                                    "3": "<Pizza size=\"medium\"><Topping>Mushrooms</Topping><Topping>Ham</Topping><Topping>Jalapenos</Topping></Pizza>"
                                },
                                {
                                    "0": "1",
                                    "1": "medium",
                                    "2": "Ham",
                                    "3": "<Pizza size=\"medium\"><Topping>Mushrooms</Topping><Topping>Ham</Topping><Topping>Jalapenos</Topping></Pizza>"
                                },
                                {
                                    "0": "1",
                                    "1": "medium",
                                    "2": "Jalapenos",
                                    "3": "<Pizza size=\"medium\"><Topping>Mushrooms</Topping><Topping>Ham</Topping><Topping>Jalapenos</Topping></Pizza>"
                                },
                                {
                                    "0": "2",
                                    "1": "medium",
                                    "2": "Pineapple",
                                    "3": "<Pizza size=\"medium\"><Topping>Pineapple</Topping><Topping>Onion</Topping><Topping>Jalapenos</Topping></Pizza>"
                                },
                                {
                                    "0": "2",
                                    "1": "medium",
                                    "2": "Onion",
                                    "3": "<Pizza size=\"medium\"><Topping>Pineapple</Topping><Topping>Onion</Topping><Topping>Jalapenos</Topping></Pizza>"
                                },
                                {
                                    "0": "2",
                                    "1": "medium",
                                    "2": "Jalapenos",
                                    "3": "<Pizza size=\"medium\"><Topping>Pineapple</Topping><Topping>Onion</Topping><Topping>Jalapenos</Topping></Pizza>"
                                },
                                {
                                    "0": "3",
                                    "1": "large",
                                    "2": "Pepperoni",
                                    "3": "<Pizza size=\"large\"><Topping>Pepperoni</Topping><Topping>Extra Cheese</Topping></Pizza>"
                                },
                                {
                                    "0": "3",
                                    "1": "large",
                                    "2": "Extra Cheese",
                                    "3": "<Pizza size=\"large\"><Topping>Pepperoni</Topping><Topping>Extra Cheese</Topping></Pizza>"
                                }
                            ]
                        },
                        "text/html": [
                            "<table>",
                            "<tr><th>PizzaSequence</th><th>Size</th><th>Topping</th><th>PizzaXML</th></tr>",
                            "<tr><td>1</td><td>medium</td><td>Mushrooms</td><td>&lt;Pizza size=&quot;medium&quot;&gt;&lt;Topping&gt;Mushrooms&lt;/Topping&gt;&lt;Topping&gt;Ham&lt;/Topping&gt;&lt;Topping&gt;Jalapenos&lt;/Topping&gt;&lt;/Pizza&gt;</td></tr>",
                            "<tr><td>1</td><td>medium</td><td>Ham</td><td>&lt;Pizza size=&quot;medium&quot;&gt;&lt;Topping&gt;Mushrooms&lt;/Topping&gt;&lt;Topping&gt;Ham&lt;/Topping&gt;&lt;Topping&gt;Jalapenos&lt;/Topping&gt;&lt;/Pizza&gt;</td></tr>",
                            "<tr><td>1</td><td>medium</td><td>Jalapenos</td><td>&lt;Pizza size=&quot;medium&quot;&gt;&lt;Topping&gt;Mushrooms&lt;/Topping&gt;&lt;Topping&gt;Ham&lt;/Topping&gt;&lt;Topping&gt;Jalapenos&lt;/Topping&gt;&lt;/Pizza&gt;</td></tr>",
                            "<tr><td>2</td><td>medium</td><td>Pineapple</td><td>&lt;Pizza size=&quot;medium&quot;&gt;&lt;Topping&gt;Pineapple&lt;/Topping&gt;&lt;Topping&gt;Onion&lt;/Topping&gt;&lt;Topping&gt;Jalapenos&lt;/Topping&gt;&lt;/Pizza&gt;</td></tr>",
                            "<tr><td>2</td><td>medium</td><td>Onion</td><td>&lt;Pizza size=&quot;medium&quot;&gt;&lt;Topping&gt;Pineapple&lt;/Topping&gt;&lt;Topping&gt;Onion&lt;/Topping&gt;&lt;Topping&gt;Jalapenos&lt;/Topping&gt;&lt;/Pizza&gt;</td></tr>",
                            "<tr><td>2</td><td>medium</td><td>Jalapenos</td><td>&lt;Pizza size=&quot;medium&quot;&gt;&lt;Topping&gt;Pineapple&lt;/Topping&gt;&lt;Topping&gt;Onion&lt;/Topping&gt;&lt;Topping&gt;Jalapenos&lt;/Topping&gt;&lt;/Pizza&gt;</td></tr>",
                            "<tr><td>3</td><td>large</td><td>Pepperoni</td><td>&lt;Pizza size=&quot;large&quot;&gt;&lt;Topping&gt;Pepperoni&lt;/Topping&gt;&lt;Topping&gt;Extra Cheese&lt;/Topping&gt;&lt;/Pizza&gt;</td></tr>",
                            "<tr><td>3</td><td>large</td><td>Extra Cheese</td><td>&lt;Pizza size=&quot;large&quot;&gt;&lt;Topping&gt;Pepperoni&lt;/Topping&gt;&lt;Topping&gt;Extra Cheese&lt;/Topping&gt;&lt;/Pizza&gt;</td></tr>",
                            "</table>"
                        ]
                    }
                }
            ],
            "execution_count": 3
        },
        {
            "cell_type": "markdown",
            "source": [
                "We have to run in two parts because we aren’t allowed to partition on the XML data type and so we can’t drop the results of the first nodes expression in directly, even then what happens if we have two 100% identical pizzas, toppings and all? We need to sequence the pizzas and then use the nodes method to break out the toppings.  \n",
                "Unfortunately that’s enough to break the logical pointer we’ve used in the examples above, we have to effectively materialise each pizza as a separate piece of XML with the query method and then apply the nodes method to that. Here’s a copy of the query plan over at [Paste the Plan](https://www.brentozar.com/pastetheplan/?id=HkxISsVDd) I need to work out a larger data set to prove it (watch this space) but those estimated vs actual numbers make me nervous.  \n",
                "It also makes our code about twice as long without improving readability.\n",
                "\n",
                "If you’ve been following along with this series then you’ll know that often there’s a solution inside XPath or XQuery that is either neater, faster or both because we can go into the XML, get a single answer and then come back out again without having to break the data into rows.\n",
                "\n",
                "## How do I Sequence XML Elements in SQL Server With XQuery?\n",
                "\n",
                "Here’s my preferred solution to allow nodes in XML to be assigned a sequence number. It isn’t quite as elegant as I’d like as there are limits to XQuery’s position function and a few features missing from SQL Server’s implementation of XQuery (handling of siblings).  \n",
                "This approach makes use of the \\<\\< comparison operator in XQuery which in essence means ‘before’, we assign our current element to a variable, move up to the parent level and then count the elements before the current one.  \n",
                "This leads us to a query that looks like this:"
            ],
            "metadata": {
                "azdata_cell_guid": "5b7ce53f-79c9-4819-8bd4-c30db23bd592"
            }
        },
        {
            "cell_type": "code",
            "source": [
                "SELECT\r\n",
                "X.MyXML.value('Order[1]/@name', 'varchar(50)') AS Name,\r\n",
                "Pizza.PizzaXML.value('let $i := . return count(../Pizza[. << $i])', 'int') + 1  AS PizzaSequence,\r\n",
                "Pizza.PizzaXML.value('./@size', 'varchar(50)') AS Size,\r\n",
                "Topping.ToppingXML.value('.', 'varchar(50)') AS Topping,\r\n",
                "Topping.ToppingXML.value('let $i := . return count(../Topping[. << $i])', 'int') + 1  AS ToppingSequence,\r\n",
                "Topping.ToppingXML.value('let $i := . return count(../../Pizza/Topping[. << $i])', 'int') + 1  AS ToppingSequenceAbsolute,\r\n",
                "Topping.ToppingXML.value('let $i := .. return count(../../Pizza[. << $i])', 'int') + 1  AS ToppingPizzaSequence\r\n",
                "FROM #MyXML AS X\r\n",
                "CROSS APPLY X.MyXML.nodes('Order/Pizza') AS Pizza(PizzaXML)\r\n",
                "CROSS APPLY Pizza.PizzaXML.nodes('Topping') AS Topping(ToppingXML);"
            ],
            "metadata": {
                "azdata_cell_guid": "86c56a33-0a30-4762-9cab-fcd1e8e9681b"
            },
            "outputs": [],
            "execution_count": null
        },
        {
            "cell_type": "markdown",
            "source": [
                "This gives us what we need in a single line of code and while not perfectly performant I’ve used this approach over tens of thousands of XML messages containing millions of elements in total with better results than the above two approaches.  \n",
                "The last three lines of the above query give variants on this technique to give us a sequence to the toppings within each pizza, an absolute sequence to the toppings across all pizzas and finally our pizza sequence but calculated starting from the topping level nodes rather than the pizza (if we wanted this would allow us to drop to one cross apply going directly down to toppings).\n",
                "\n",
                "Next I’m going to turn my eye to performance by putting together a larger example data set and taking a look at the impact of XML Indexes.\n",
                "\n",
                "Querying XML In SQL Server Series\n",
                "\n",
                "- [Part 1 – Introduction](https://barneylawrence.com/2021/03/15/querying-xml-in-sql-server-part-1-introduction/)\n",
                "- [Part 2 – Simple Paths and Attributes With the Value Method](https://barneylawrence.com/2021/03/23/querying-xml-in-sql-server-part-2-simple-paths-and-attributes-with-the-value-method/)\n",
                "- [Part 3 – Handling Repeating Regions With the Nodes Method](https://barneylawrence.com/2021/03/30/querying-xml-in-sql-server-part-3-handling-repeating-regions-with-the-nodes-method/)\n",
                "- [Part 4 – Filtering With The Exist Method](https://barneylawrence.com/2021/04/07/querying-xml-in-sql-server-part-4-filtering-with-the-exist-method/)\n",
                "- [Part 5 – Introduction to the Query Method and XQuery](https://barneylawrence.com/2021/04/21/querying-xml-in-sql-server-part-5-an-introduction-to-the-query-method-and-xquery/)\n",
                "- [Part 6 – Sequencing Elements and Finding Positions](https://barneylawrence.com/2021/04/28/querying-xml-in-sql-server-part-6-sequencing-elements-and-finding-positions/)\n",
                "\n",
                "[Posts in SQL Notebook form](https://github.com/BarneyLawrence/XML-Queries-In-SQL-Server/tree/main/Notebooks)"
            ],
            "metadata": {
                "azdata_cell_guid": "eb4c200a-a8be-4cf5-b0b1-5f595391c9f9"
            }
        }
    ]
}