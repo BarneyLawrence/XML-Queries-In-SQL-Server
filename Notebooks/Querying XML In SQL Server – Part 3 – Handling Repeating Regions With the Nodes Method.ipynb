{
    "metadata": {
        "kernelspec": {
            "name": "SQL",
            "display_name": "SQL",
            "language": "sql"
        },
        "language_info": {
            "name": "sql",
            "version": ""
        }
    },
    "nbformat_minor": 2,
    "nbformat": 4,
    "cells": [
        {
            "cell_type": "markdown",
            "source": [
                "# Querying XML In SQL Server – Part 3 – Handling Repeating Regions With the Nodes Method\n",
                "\n",
                "### _In part 3 of our XML series we meet the nodes method and see how it can be used in a query to split data over multiple rows._\n",
                "\n",
                "Last time we looked at [how to extract a specific single](https://barneylawrence.com/2021/03/23/querying-xml-in-sql-server-part-2-simple-paths-and-attributes-with-the-value-method/) value from XML in a variety of ways. We’ll build on that now to look at how to handle XML that has repeating regions and we want to obtain all the values rather than just one of them.\n",
                "\n",
                "Lets start out again by loading our sample data into a temporary table."
            ],
            "metadata": {
                "azdata_cell_guid": "90a498d9-31f5-499d-8445-ff6859bce776"
            }
        },
        {
            "cell_type": "code",
            "source": [
                "CREATE TABLE #MyXML (MyXML XML NOT NULL);\r\n",
                "  \r\n",
                "INSERT INTO #MyXML(MyXML)\r\n",
                "VALUES\r\n",
                "(\r\n",
                "'<?xml version=\"1.0\" encoding=\"UTF-8\"?>\r\n",
                "<items termsofuse=\"https://boardgamegeek.com/xmlapi/termsofuse\">\r\n",
                "   <item type=\"boardgame\" id=\"91514\">\r\n",
                "      <thumbnail>https://cf.geekdo-images.com/R_VAhiLCzl5RXKwSluvEbg__thumb/img/zpzD1TJLfuNEjuTjpPbN1y1mpss=/fit-in/200x150/filters:strip_icc()/pic3271388.jpg</thumbnail>\r\n",
                "      <image>https://cf.geekdo-images.com/R_VAhiLCzl5RXKwSluvEbg__original/img/hVn3HtD2_5vKNjhEBkL1qFB4FaU=/0x0/filters:format(jpeg)/pic3271388.jpg</image>\r\n",
                "      <name type=\"primary\" sortindex=\"1\" value=\"Rhino Hero\" />\r\n",
                "      <name type=\"alternate\" sortindex=\"1\" value=\"Rino Ercolino\" />\r\n",
                "      <name type=\"alternate\" sortindex=\"1\" value=\"Super Rhino!\" />\r\n",
                "      <name type=\"alternate\" sortindex=\"1\" value=\"Super Rino!\" />\r\n",
                "      <description>\r\n",
                "        Super Rhino! presents players with an incredibly heroic &amp;ndash; and regrettably heavy &amp;ndash; rhinoceros who is eager to climb a tall building and leap other tall buildings in a single bound. \r\n",
                "      </description>\r\n",
                "      <yearpublished value=\"2011\" />\r\n",
                "      <minplayers value=\"2\" />\r\n",
                "      <maxplayers value=\"5\" />\r\n",
                "      <poll name=\"suggested_numplayers\" title=\"User Suggested Number of Players\" totalvotes=\"61\">\r\n",
                "         <results numplayers=\"1\">\r\n",
                "            <result value=\"Best\" numvotes=\"0\" />\r\n",
                "            <result value=\"Recommended\" numvotes=\"7\" />\r\n",
                "            <result value=\"Not Recommended\" numvotes=\"29\" />\r\n",
                "         </results>\r\n",
                "         <results numplayers=\"2\">\r\n",
                "            <result value=\"Best\" numvotes=\"10\" />\r\n",
                "            <result value=\"Recommended\" numvotes=\"40\" />\r\n",
                "            <result value=\"Not Recommended\" numvotes=\"3\" />\r\n",
                "         </results>\r\n",
                "         <results numplayers=\"3\">\r\n",
                "            <result value=\"Best\" numvotes=\"44\" />\r\n",
                "            <result value=\"Recommended\" numvotes=\"11\" />\r\n",
                "            <result value=\"Not Recommended\" numvotes=\"0\" />\r\n",
                "         </results>\r\n",
                "         <results numplayers=\"4\">\r\n",
                "            <result value=\"Best\" numvotes=\"18\" />\r\n",
                "            <result value=\"Recommended\" numvotes=\"30\" />\r\n",
                "            <result value=\"Not Recommended\" numvotes=\"1\" />\r\n",
                "         </results>\r\n",
                "         <results numplayers=\"5\">\r\n",
                "            <result value=\"Best\" numvotes=\"5\" />\r\n",
                "            <result value=\"Recommended\" numvotes=\"25\" />\r\n",
                "            <result value=\"Not Recommended\" numvotes=\"13\" />\r\n",
                "         </results>\r\n",
                "         <results numplayers=\"5+\">\r\n",
                "            <result value=\"Best\" numvotes=\"0\" />\r\n",
                "            <result value=\"Recommended\" numvotes=\"3\" />\r\n",
                "            <result value=\"Not Recommended\" numvotes=\"24\" />\r\n",
                "         </results>\r\n",
                "      </poll>\r\n",
                "      <playingtime value=\"15\" />\r\n",
                "      <minplaytime value=\"5\" />\r\n",
                "      <maxplaytime value=\"15\" />\r\n",
                "      <minage value=\"5\" />\r\n",
                "   </item>\r\n",
                "</items>'\r\n",
                ");\r\n",
                "  \r\n",
                "SELECT * FROM #MyXML;"
            ],
            "metadata": {
                "azdata_cell_guid": "2f916f4d-a949-4f28-8d5a-f5afe4d845d6",
                "tags": [
                    "hide_input"
                ]
            },
            "outputs": [
                {
                    "output_type": "display_data",
                    "data": {
                        "text/html": "(1 row affected)"
                    },
                    "metadata": {}
                },
                {
                    "output_type": "display_data",
                    "data": {
                        "text/html": "(1 row affected)"
                    },
                    "metadata": {}
                },
                {
                    "output_type": "display_data",
                    "data": {
                        "text/html": "Total execution time: 00:00:00.036"
                    },
                    "metadata": {}
                },
                {
                    "output_type": "execute_result",
                    "metadata": {},
                    "execution_count": 1,
                    "data": {
                        "application/vnd.dataresource+json": {
                            "schema": {
                                "fields": [
                                    {
                                        "name": "MyXML"
                                    }
                                ]
                            },
                            "data": [
                                {
                                    "0": "<items termsofuse=\"https://boardgamegeek.com/xmlapi/termsofuse\"><item type=\"boardgame\" id=\"91514\"><thumbnail>https://cf.geekdo-images.com/R_VAhiLCzl5RXKwSluvEbg__thumb/img/zpzD1TJLfuNEjuTjpPbN1y1mpss=/fit-in/200x150/filters:strip_icc()/pic3271388.jpg</thumbnail><image>https://cf.geekdo-images.com/R_VAhiLCzl5RXKwSluvEbg__original/img/hVn3HtD2_5vKNjhEBkL1qFB4FaU=/0x0/filters:format(jpeg)/pic3271388.jpg</image><name type=\"primary\" sortindex=\"1\" value=\"Rhino Hero\" /><name type=\"alternate\" sortindex=\"1\" value=\"Rino Ercolino\" /><name type=\"alternate\" sortindex=\"1\" value=\"Super Rhino!\" /><name type=\"alternate\" sortindex=\"1\" value=\"Super Rino!\" /><description>\r\n        Super Rhino! presents players with an incredibly heroic &amp;ndash; and regrettably heavy &amp;ndash; rhinoceros who is eager to climb a tall building and leap other tall buildings in a single bound. \r\n      </description><yearpublished value=\"2011\" /><minplayers value=\"2\" /><maxplayers value=\"5\" /><poll name=\"suggested_numplayers\" title=\"User Suggested Number of Players\" totalvotes=\"61\"><results numplayers=\"1\"><result value=\"Best\" numvotes=\"0\" /><result value=\"Recommended\" numvotes=\"7\" /><result value=\"Not Recommended\" numvotes=\"29\" /></results><results numplayers=\"2\"><result value=\"Best\" numvotes=\"10\" /><result value=\"Recommended\" numvotes=\"40\" /><result value=\"Not Recommended\" numvotes=\"3\" /></results><results numplayers=\"3\"><result value=\"Best\" numvotes=\"44\" /><result value=\"Recommended\" numvotes=\"11\" /><result value=\"Not Recommended\" numvotes=\"0\" /></results><results numplayers=\"4\"><result value=\"Best\" numvotes=\"18\" /><result value=\"Recommended\" numvotes=\"30\" /><result value=\"Not Recommended\" numvotes=\"1\" /></results><results numplayers=\"5\"><result value=\"Best\" numvotes=\"5\" /><result value=\"Recommended\" numvotes=\"25\" /><result value=\"Not Recommended\" numvotes=\"13\" /></results><results numplayers=\"5+\"><result value=\"Best\" numvotes=\"0\" /><result value=\"Recommended\" numvotes=\"3\" /><result value=\"Not Recommended\" numvotes=\"24\" /></results></poll><playingtime value=\"15\" /><minplaytime value=\"5\" /><maxplaytime value=\"15\" /><minage value=\"5\" /></item></items>"
                                }
                            ]
                        },
                        "text/html": [
                            "<table>",
                            "<tr><th>MyXML</th></tr>",
                            "<tr><td>&lt;items termsofuse=&quot;https://boardgamegeek.com/xmlapi/termsofuse&quot;&gt;&lt;item type=&quot;boardgame&quot; id=&quot;91514&quot;&gt;&lt;thumbnail&gt;https://cf.geekdo-images.com/R_VAhiLCzl5RXKwSluvEbg__thumb/img/zpzD1TJLfuNEjuTjpPbN1y1mpss=/fit-in/200x150/filters:strip_icc()/pic3271388.jpg&lt;/thumbnail&gt;&lt;image&gt;https://cf.geekdo-images.com/R_VAhiLCzl5RXKwSluvEbg__original/img/hVn3HtD2_5vKNjhEBkL1qFB4FaU=/0x0/filters:format(jpeg)/pic3271388.jpg&lt;/image&gt;&lt;name type=&quot;primary&quot; sortindex=&quot;1&quot; value=&quot;Rhino Hero&quot; /&gt;&lt;name type=&quot;alternate&quot; sortindex=&quot;1&quot; value=&quot;Rino Ercolino&quot; /&gt;&lt;name type=&quot;alternate&quot; sortindex=&quot;1&quot; value=&quot;Super Rhino!&quot; /&gt;&lt;name type=&quot;alternate&quot; sortindex=&quot;1&quot; value=&quot;Super Rino!&quot; /&gt;&lt;description&gt;\r\n        Super Rhino! presents players with an incredibly heroic &amp;amp;ndash; and regrettably heavy &amp;amp;ndash; rhinoceros who is eager to climb a tall building and leap other tall buildings in a single bound. \r\n      &lt;/description&gt;&lt;yearpublished value=&quot;2011&quot; /&gt;&lt;minplayers value=&quot;2&quot; /&gt;&lt;maxplayers value=&quot;5&quot; /&gt;&lt;poll name=&quot;suggested_numplayers&quot; title=&quot;User Suggested Number of Players&quot; totalvotes=&quot;61&quot;&gt;&lt;results numplayers=&quot;1&quot;&gt;&lt;result value=&quot;Best&quot; numvotes=&quot;0&quot; /&gt;&lt;result value=&quot;Recommended&quot; numvotes=&quot;7&quot; /&gt;&lt;result value=&quot;Not Recommended&quot; numvotes=&quot;29&quot; /&gt;&lt;/results&gt;&lt;results numplayers=&quot;2&quot;&gt;&lt;result value=&quot;Best&quot; numvotes=&quot;10&quot; /&gt;&lt;result value=&quot;Recommended&quot; numvotes=&quot;40&quot; /&gt;&lt;result value=&quot;Not Recommended&quot; numvotes=&quot;3&quot; /&gt;&lt;/results&gt;&lt;results numplayers=&quot;3&quot;&gt;&lt;result value=&quot;Best&quot; numvotes=&quot;44&quot; /&gt;&lt;result value=&quot;Recommended&quot; numvotes=&quot;11&quot; /&gt;&lt;result value=&quot;Not Recommended&quot; numvotes=&quot;0&quot; /&gt;&lt;/results&gt;&lt;results numplayers=&quot;4&quot;&gt;&lt;result value=&quot;Best&quot; numvotes=&quot;18&quot; /&gt;&lt;result value=&quot;Recommended&quot; numvotes=&quot;30&quot; /&gt;&lt;result value=&quot;Not Recommended&quot; numvotes=&quot;1&quot; /&gt;&lt;/results&gt;&lt;results numplayers=&quot;5&quot;&gt;&lt;result value=&quot;Best&quot; numvotes=&quot;5&quot; /&gt;&lt;result value=&quot;Recommended&quot; numvotes=&quot;25&quot; /&gt;&lt;result value=&quot;Not Recommended&quot; numvotes=&quot;13&quot; /&gt;&lt;/results&gt;&lt;results numplayers=&quot;5+&quot;&gt;&lt;result value=&quot;Best&quot; numvotes=&quot;0&quot; /&gt;&lt;result value=&quot;Recommended&quot; numvotes=&quot;3&quot; /&gt;&lt;result value=&quot;Not Recommended&quot; numvotes=&quot;24&quot; /&gt;&lt;/results&gt;&lt;/poll&gt;&lt;playingtime value=&quot;15&quot; /&gt;&lt;minplaytime value=&quot;5&quot; /&gt;&lt;maxplaytime value=&quot;15&quot; /&gt;&lt;minage value=&quot;5&quot; /&gt;&lt;/item&gt;&lt;/items&gt;</td></tr>",
                            "</table>"
                        ]
                    }
                }
            ],
            "execution_count": 1
        },
        {
            "cell_type": "markdown",
            "source": [
                "We dipped in to the poll section last time round to experiment with XMLPath queries but this time further we want the whole lot.\n",
                "\n",
                "## How Do I Use the Nodes Method to Shred Repeating Regions in XML?\n",
                "\n",
                "The nodes method is used in conjunction with CROSS APPLY to create repeating rows each holding a copy of the parent XML for each node within the path specified. To quote the [documentation](https://docs.microsoft.com/en-us/sql/t-sql/xml/nodes-method-xml-data-type?view=sql-server-ver15) exactly:\n",
                "\n",
                "> The result of the nodes() method is a rowset that contains logical copies of the original XML instances. In these logical copies, the context node of every row instance is set to one of the nodes that is identified with the query expression. This way, later queries can navigate relative to these context nodes.\n",
                "\n",
                "Here’s our first example."
            ],
            "metadata": {
                "azdata_cell_guid": "76d49785-75b3-4a01-826a-559dcd179b4e"
            }
        },
        {
            "cell_type": "code",
            "source": [
                "SELECT\r\n",
                "R.ResultXML.query('.') AS ResultLevelXML,\r\n",
                "R.ResultXML.value('./@numplayers','varchar(50)') AS NumPlayers,\r\n",
                "R.ResultXML.value('(./result[@value = \"Best\"]/@numvotes)[1]','int') AS BestVotes,\r\n",
                "R.ResultXML.value('(./result[@value = \"Recommended\"]/@numvotes)[1]','int') AS RecommendedVotes,\r\n",
                "R.ResultXML.value('(./result[@value = \"Not Recommended\"]/@numvotes)[1]','int') AS NotRecommendedVotes\r\n",
                "FROM #MyXML AS X\r\n",
                "CROSS APPLY X.MyXML.nodes('/items/item/poll/results') AS R(ResultXML);"
            ],
            "metadata": {
                "azdata_cell_guid": "e900d8f0-6c77-44e8-a57d-bee1566dbee6"
            },
            "outputs": [
                {
                    "output_type": "display_data",
                    "data": {
                        "text/html": "(6 rows affected)"
                    },
                    "metadata": {}
                },
                {
                    "output_type": "display_data",
                    "data": {
                        "text/html": "Total execution time: 00:00:00.066"
                    },
                    "metadata": {}
                },
                {
                    "output_type": "execute_result",
                    "metadata": {},
                    "execution_count": 2,
                    "data": {
                        "application/vnd.dataresource+json": {
                            "schema": {
                                "fields": [
                                    {
                                        "name": "ResultLevelXML"
                                    },
                                    {
                                        "name": "NumPlayers"
                                    },
                                    {
                                        "name": "BestVotes"
                                    },
                                    {
                                        "name": "RecommendedVotes"
                                    },
                                    {
                                        "name": "NotRecommendedVotes"
                                    }
                                ]
                            },
                            "data": [
                                {
                                    "0": "<results numplayers=\"1\"><result value=\"Best\" numvotes=\"0\" /><result value=\"Recommended\" numvotes=\"7\" /><result value=\"Not Recommended\" numvotes=\"29\" /></results>",
                                    "1": "1",
                                    "2": "0",
                                    "3": "7",
                                    "4": "29"
                                },
                                {
                                    "0": "<results numplayers=\"2\"><result value=\"Best\" numvotes=\"10\" /><result value=\"Recommended\" numvotes=\"40\" /><result value=\"Not Recommended\" numvotes=\"3\" /></results>",
                                    "1": "2",
                                    "2": "10",
                                    "3": "40",
                                    "4": "3"
                                },
                                {
                                    "0": "<results numplayers=\"3\"><result value=\"Best\" numvotes=\"44\" /><result value=\"Recommended\" numvotes=\"11\" /><result value=\"Not Recommended\" numvotes=\"0\" /></results>",
                                    "1": "3",
                                    "2": "44",
                                    "3": "11",
                                    "4": "0"
                                },
                                {
                                    "0": "<results numplayers=\"4\"><result value=\"Best\" numvotes=\"18\" /><result value=\"Recommended\" numvotes=\"30\" /><result value=\"Not Recommended\" numvotes=\"1\" /></results>",
                                    "1": "4",
                                    "2": "18",
                                    "3": "30",
                                    "4": "1"
                                },
                                {
                                    "0": "<results numplayers=\"5\"><result value=\"Best\" numvotes=\"5\" /><result value=\"Recommended\" numvotes=\"25\" /><result value=\"Not Recommended\" numvotes=\"13\" /></results>",
                                    "1": "5",
                                    "2": "5",
                                    "3": "25",
                                    "4": "13"
                                },
                                {
                                    "0": "<results numplayers=\"5+\"><result value=\"Best\" numvotes=\"0\" /><result value=\"Recommended\" numvotes=\"3\" /><result value=\"Not Recommended\" numvotes=\"24\" /></results>",
                                    "1": "5+",
                                    "2": "0",
                                    "3": "3",
                                    "4": "24"
                                }
                            ]
                        },
                        "text/html": [
                            "<table>",
                            "<tr><th>ResultLevelXML</th><th>NumPlayers</th><th>BestVotes</th><th>RecommendedVotes</th><th>NotRecommendedVotes</th></tr>",
                            "<tr><td>&lt;results numplayers=&quot;1&quot;&gt;&lt;result value=&quot;Best&quot; numvotes=&quot;0&quot; /&gt;&lt;result value=&quot;Recommended&quot; numvotes=&quot;7&quot; /&gt;&lt;result value=&quot;Not Recommended&quot; numvotes=&quot;29&quot; /&gt;&lt;/results&gt;</td><td>1</td><td>0</td><td>7</td><td>29</td></tr>",
                            "<tr><td>&lt;results numplayers=&quot;2&quot;&gt;&lt;result value=&quot;Best&quot; numvotes=&quot;10&quot; /&gt;&lt;result value=&quot;Recommended&quot; numvotes=&quot;40&quot; /&gt;&lt;result value=&quot;Not Recommended&quot; numvotes=&quot;3&quot; /&gt;&lt;/results&gt;</td><td>2</td><td>10</td><td>40</td><td>3</td></tr>",
                            "<tr><td>&lt;results numplayers=&quot;3&quot;&gt;&lt;result value=&quot;Best&quot; numvotes=&quot;44&quot; /&gt;&lt;result value=&quot;Recommended&quot; numvotes=&quot;11&quot; /&gt;&lt;result value=&quot;Not Recommended&quot; numvotes=&quot;0&quot; /&gt;&lt;/results&gt;</td><td>3</td><td>44</td><td>11</td><td>0</td></tr>",
                            "<tr><td>&lt;results numplayers=&quot;4&quot;&gt;&lt;result value=&quot;Best&quot; numvotes=&quot;18&quot; /&gt;&lt;result value=&quot;Recommended&quot; numvotes=&quot;30&quot; /&gt;&lt;result value=&quot;Not Recommended&quot; numvotes=&quot;1&quot; /&gt;&lt;/results&gt;</td><td>4</td><td>18</td><td>30</td><td>1</td></tr>",
                            "<tr><td>&lt;results numplayers=&quot;5&quot;&gt;&lt;result value=&quot;Best&quot; numvotes=&quot;5&quot; /&gt;&lt;result value=&quot;Recommended&quot; numvotes=&quot;25&quot; /&gt;&lt;result value=&quot;Not Recommended&quot; numvotes=&quot;13&quot; /&gt;&lt;/results&gt;</td><td>5</td><td>5</td><td>25</td><td>13</td></tr>",
                            "<tr><td>&lt;results numplayers=&quot;5+&quot;&gt;&lt;result value=&quot;Best&quot; numvotes=&quot;0&quot; /&gt;&lt;result value=&quot;Recommended&quot; numvotes=&quot;3&quot; /&gt;&lt;result value=&quot;Not Recommended&quot; numvotes=&quot;24&quot; /&gt;&lt;/results&gt;</td><td>5+</td><td>0</td><td>3</td><td>24</td></tr>",
                            "</table>"
                        ]
                    }
                }
            ],
            "execution_count": 2
        },
        {
            "cell_type": "markdown",
            "source": [
                "Nodes takes us down to the results level, creates a row per result element and as we have six results elements we get six rows.  \n",
                "The first column in the data set uses the query method to obtain ‘.’ which simply means the current element. This method will have a whole post to itself later in the series but I’m dropping this in now as it’s a really helpful approach when debugging your code. Just click on the XML to see what you’re currently working with. Note how we just get a single snippet of XML holding one results element and its associated children.  \n",
                "The remaining columns should be familiar if you’ve been following the series so far. The value method pulls the number of players from the attribute, because each of the three result elements have a unique attribute value and we know what they are we can query for that to add each element to a column.\n",
                "\n",
                "This works well if you have well defined children in your XML but what if we want to do the same again for the children of each node?\n",
                "\n",
                "## How Do I Extract Repeating Sub Elements of XML With The Nodes Method?\n",
                "\n",
                "There are a few ways of approaching this. The first is to build on our work above and use the nodes method a second time on the results of the first. That approach looks as follows."
            ],
            "metadata": {
                "azdata_cell_guid": "4fc372dd-a101-42ad-ac33-639b9a5a832f"
            }
        },
        {
            "cell_type": "code",
            "source": [
                "SELECT\r\n",
                "R.ResultXML.query('.') AS ResultLevelXML,\r\n",
                "R.ResultXML.value('./@numplayers','varchar(50)') AS NumPlayers,\r\n",
                "R2.ResultsXML.value('./@value','varchar(50)') AS PollValue,\r\n",
                "R2.ResultsXML.value('./@numvotes','int') AS NumberOfVotes\r\n",
                "FROM #MyXML AS X\r\n",
                "CROSS APPLY X.MyXML.nodes('/items/item/poll/results') AS R(ResultXML)\r\n",
                "CROSS APPLY R.ResultXML.nodes('./result') AS R2(ResultsXML);"
            ],
            "metadata": {
                "azdata_cell_guid": "782165f2-aa3e-4aba-96ca-556379e18f31"
            },
            "outputs": [
                {
                    "output_type": "display_data",
                    "data": {
                        "text/html": "(18 rows affected)"
                    },
                    "metadata": {}
                },
                {
                    "output_type": "display_data",
                    "data": {
                        "text/html": "Total execution time: 00:00:00.029"
                    },
                    "metadata": {}
                },
                {
                    "output_type": "execute_result",
                    "metadata": {},
                    "execution_count": 3,
                    "data": {
                        "application/vnd.dataresource+json": {
                            "schema": {
                                "fields": [
                                    {
                                        "name": "ResultLevelXML"
                                    },
                                    {
                                        "name": "NumPlayers"
                                    },
                                    {
                                        "name": "PollValue"
                                    },
                                    {
                                        "name": "NumberOfVotes"
                                    }
                                ]
                            },
                            "data": [
                                {
                                    "0": "<results numplayers=\"1\"><result value=\"Best\" numvotes=\"0\" /><result value=\"Recommended\" numvotes=\"7\" /><result value=\"Not Recommended\" numvotes=\"29\" /></results>",
                                    "1": "1",
                                    "2": "Best",
                                    "3": "0"
                                },
                                {
                                    "0": "<results numplayers=\"1\"><result value=\"Best\" numvotes=\"0\" /><result value=\"Recommended\" numvotes=\"7\" /><result value=\"Not Recommended\" numvotes=\"29\" /></results>",
                                    "1": "1",
                                    "2": "Recommended",
                                    "3": "7"
                                },
                                {
                                    "0": "<results numplayers=\"1\"><result value=\"Best\" numvotes=\"0\" /><result value=\"Recommended\" numvotes=\"7\" /><result value=\"Not Recommended\" numvotes=\"29\" /></results>",
                                    "1": "1",
                                    "2": "Not Recommended",
                                    "3": "29"
                                },
                                {
                                    "0": "<results numplayers=\"2\"><result value=\"Best\" numvotes=\"10\" /><result value=\"Recommended\" numvotes=\"40\" /><result value=\"Not Recommended\" numvotes=\"3\" /></results>",
                                    "1": "2",
                                    "2": "Best",
                                    "3": "10"
                                },
                                {
                                    "0": "<results numplayers=\"2\"><result value=\"Best\" numvotes=\"10\" /><result value=\"Recommended\" numvotes=\"40\" /><result value=\"Not Recommended\" numvotes=\"3\" /></results>",
                                    "1": "2",
                                    "2": "Recommended",
                                    "3": "40"
                                },
                                {
                                    "0": "<results numplayers=\"2\"><result value=\"Best\" numvotes=\"10\" /><result value=\"Recommended\" numvotes=\"40\" /><result value=\"Not Recommended\" numvotes=\"3\" /></results>",
                                    "1": "2",
                                    "2": "Not Recommended",
                                    "3": "3"
                                },
                                {
                                    "0": "<results numplayers=\"3\"><result value=\"Best\" numvotes=\"44\" /><result value=\"Recommended\" numvotes=\"11\" /><result value=\"Not Recommended\" numvotes=\"0\" /></results>",
                                    "1": "3",
                                    "2": "Best",
                                    "3": "44"
                                },
                                {
                                    "0": "<results numplayers=\"3\"><result value=\"Best\" numvotes=\"44\" /><result value=\"Recommended\" numvotes=\"11\" /><result value=\"Not Recommended\" numvotes=\"0\" /></results>",
                                    "1": "3",
                                    "2": "Recommended",
                                    "3": "11"
                                },
                                {
                                    "0": "<results numplayers=\"3\"><result value=\"Best\" numvotes=\"44\" /><result value=\"Recommended\" numvotes=\"11\" /><result value=\"Not Recommended\" numvotes=\"0\" /></results>",
                                    "1": "3",
                                    "2": "Not Recommended",
                                    "3": "0"
                                },
                                {
                                    "0": "<results numplayers=\"4\"><result value=\"Best\" numvotes=\"18\" /><result value=\"Recommended\" numvotes=\"30\" /><result value=\"Not Recommended\" numvotes=\"1\" /></results>",
                                    "1": "4",
                                    "2": "Best",
                                    "3": "18"
                                },
                                {
                                    "0": "<results numplayers=\"4\"><result value=\"Best\" numvotes=\"18\" /><result value=\"Recommended\" numvotes=\"30\" /><result value=\"Not Recommended\" numvotes=\"1\" /></results>",
                                    "1": "4",
                                    "2": "Recommended",
                                    "3": "30"
                                },
                                {
                                    "0": "<results numplayers=\"4\"><result value=\"Best\" numvotes=\"18\" /><result value=\"Recommended\" numvotes=\"30\" /><result value=\"Not Recommended\" numvotes=\"1\" /></results>",
                                    "1": "4",
                                    "2": "Not Recommended",
                                    "3": "1"
                                },
                                {
                                    "0": "<results numplayers=\"5\"><result value=\"Best\" numvotes=\"5\" /><result value=\"Recommended\" numvotes=\"25\" /><result value=\"Not Recommended\" numvotes=\"13\" /></results>",
                                    "1": "5",
                                    "2": "Best",
                                    "3": "5"
                                },
                                {
                                    "0": "<results numplayers=\"5\"><result value=\"Best\" numvotes=\"5\" /><result value=\"Recommended\" numvotes=\"25\" /><result value=\"Not Recommended\" numvotes=\"13\" /></results>",
                                    "1": "5",
                                    "2": "Recommended",
                                    "3": "25"
                                },
                                {
                                    "0": "<results numplayers=\"5\"><result value=\"Best\" numvotes=\"5\" /><result value=\"Recommended\" numvotes=\"25\" /><result value=\"Not Recommended\" numvotes=\"13\" /></results>",
                                    "1": "5",
                                    "2": "Not Recommended",
                                    "3": "13"
                                },
                                {
                                    "0": "<results numplayers=\"5+\"><result value=\"Best\" numvotes=\"0\" /><result value=\"Recommended\" numvotes=\"3\" /><result value=\"Not Recommended\" numvotes=\"24\" /></results>",
                                    "1": "5+",
                                    "2": "Best",
                                    "3": "0"
                                },
                                {
                                    "0": "<results numplayers=\"5+\"><result value=\"Best\" numvotes=\"0\" /><result value=\"Recommended\" numvotes=\"3\" /><result value=\"Not Recommended\" numvotes=\"24\" /></results>",
                                    "1": "5+",
                                    "2": "Recommended",
                                    "3": "3"
                                },
                                {
                                    "0": "<results numplayers=\"5+\"><result value=\"Best\" numvotes=\"0\" /><result value=\"Recommended\" numvotes=\"3\" /><result value=\"Not Recommended\" numvotes=\"24\" /></results>",
                                    "1": "5+",
                                    "2": "Not Recommended",
                                    "3": "24"
                                }
                            ]
                        },
                        "text/html": [
                            "<table>",
                            "<tr><th>ResultLevelXML</th><th>NumPlayers</th><th>PollValue</th><th>NumberOfVotes</th></tr>",
                            "<tr><td>&lt;results numplayers=&quot;1&quot;&gt;&lt;result value=&quot;Best&quot; numvotes=&quot;0&quot; /&gt;&lt;result value=&quot;Recommended&quot; numvotes=&quot;7&quot; /&gt;&lt;result value=&quot;Not Recommended&quot; numvotes=&quot;29&quot; /&gt;&lt;/results&gt;</td><td>1</td><td>Best</td><td>0</td></tr>",
                            "<tr><td>&lt;results numplayers=&quot;1&quot;&gt;&lt;result value=&quot;Best&quot; numvotes=&quot;0&quot; /&gt;&lt;result value=&quot;Recommended&quot; numvotes=&quot;7&quot; /&gt;&lt;result value=&quot;Not Recommended&quot; numvotes=&quot;29&quot; /&gt;&lt;/results&gt;</td><td>1</td><td>Recommended</td><td>7</td></tr>",
                            "<tr><td>&lt;results numplayers=&quot;1&quot;&gt;&lt;result value=&quot;Best&quot; numvotes=&quot;0&quot; /&gt;&lt;result value=&quot;Recommended&quot; numvotes=&quot;7&quot; /&gt;&lt;result value=&quot;Not Recommended&quot; numvotes=&quot;29&quot; /&gt;&lt;/results&gt;</td><td>1</td><td>Not Recommended</td><td>29</td></tr>",
                            "<tr><td>&lt;results numplayers=&quot;2&quot;&gt;&lt;result value=&quot;Best&quot; numvotes=&quot;10&quot; /&gt;&lt;result value=&quot;Recommended&quot; numvotes=&quot;40&quot; /&gt;&lt;result value=&quot;Not Recommended&quot; numvotes=&quot;3&quot; /&gt;&lt;/results&gt;</td><td>2</td><td>Best</td><td>10</td></tr>",
                            "<tr><td>&lt;results numplayers=&quot;2&quot;&gt;&lt;result value=&quot;Best&quot; numvotes=&quot;10&quot; /&gt;&lt;result value=&quot;Recommended&quot; numvotes=&quot;40&quot; /&gt;&lt;result value=&quot;Not Recommended&quot; numvotes=&quot;3&quot; /&gt;&lt;/results&gt;</td><td>2</td><td>Recommended</td><td>40</td></tr>",
                            "<tr><td>&lt;results numplayers=&quot;2&quot;&gt;&lt;result value=&quot;Best&quot; numvotes=&quot;10&quot; /&gt;&lt;result value=&quot;Recommended&quot; numvotes=&quot;40&quot; /&gt;&lt;result value=&quot;Not Recommended&quot; numvotes=&quot;3&quot; /&gt;&lt;/results&gt;</td><td>2</td><td>Not Recommended</td><td>3</td></tr>",
                            "<tr><td>&lt;results numplayers=&quot;3&quot;&gt;&lt;result value=&quot;Best&quot; numvotes=&quot;44&quot; /&gt;&lt;result value=&quot;Recommended&quot; numvotes=&quot;11&quot; /&gt;&lt;result value=&quot;Not Recommended&quot; numvotes=&quot;0&quot; /&gt;&lt;/results&gt;</td><td>3</td><td>Best</td><td>44</td></tr>",
                            "<tr><td>&lt;results numplayers=&quot;3&quot;&gt;&lt;result value=&quot;Best&quot; numvotes=&quot;44&quot; /&gt;&lt;result value=&quot;Recommended&quot; numvotes=&quot;11&quot; /&gt;&lt;result value=&quot;Not Recommended&quot; numvotes=&quot;0&quot; /&gt;&lt;/results&gt;</td><td>3</td><td>Recommended</td><td>11</td></tr>",
                            "<tr><td>&lt;results numplayers=&quot;3&quot;&gt;&lt;result value=&quot;Best&quot; numvotes=&quot;44&quot; /&gt;&lt;result value=&quot;Recommended&quot; numvotes=&quot;11&quot; /&gt;&lt;result value=&quot;Not Recommended&quot; numvotes=&quot;0&quot; /&gt;&lt;/results&gt;</td><td>3</td><td>Not Recommended</td><td>0</td></tr>",
                            "<tr><td>&lt;results numplayers=&quot;4&quot;&gt;&lt;result value=&quot;Best&quot; numvotes=&quot;18&quot; /&gt;&lt;result value=&quot;Recommended&quot; numvotes=&quot;30&quot; /&gt;&lt;result value=&quot;Not Recommended&quot; numvotes=&quot;1&quot; /&gt;&lt;/results&gt;</td><td>4</td><td>Best</td><td>18</td></tr>",
                            "<tr><td>&lt;results numplayers=&quot;4&quot;&gt;&lt;result value=&quot;Best&quot; numvotes=&quot;18&quot; /&gt;&lt;result value=&quot;Recommended&quot; numvotes=&quot;30&quot; /&gt;&lt;result value=&quot;Not Recommended&quot; numvotes=&quot;1&quot; /&gt;&lt;/results&gt;</td><td>4</td><td>Recommended</td><td>30</td></tr>",
                            "<tr><td>&lt;results numplayers=&quot;4&quot;&gt;&lt;result value=&quot;Best&quot; numvotes=&quot;18&quot; /&gt;&lt;result value=&quot;Recommended&quot; numvotes=&quot;30&quot; /&gt;&lt;result value=&quot;Not Recommended&quot; numvotes=&quot;1&quot; /&gt;&lt;/results&gt;</td><td>4</td><td>Not Recommended</td><td>1</td></tr>",
                            "<tr><td>&lt;results numplayers=&quot;5&quot;&gt;&lt;result value=&quot;Best&quot; numvotes=&quot;5&quot; /&gt;&lt;result value=&quot;Recommended&quot; numvotes=&quot;25&quot; /&gt;&lt;result value=&quot;Not Recommended&quot; numvotes=&quot;13&quot; /&gt;&lt;/results&gt;</td><td>5</td><td>Best</td><td>5</td></tr>",
                            "<tr><td>&lt;results numplayers=&quot;5&quot;&gt;&lt;result value=&quot;Best&quot; numvotes=&quot;5&quot; /&gt;&lt;result value=&quot;Recommended&quot; numvotes=&quot;25&quot; /&gt;&lt;result value=&quot;Not Recommended&quot; numvotes=&quot;13&quot; /&gt;&lt;/results&gt;</td><td>5</td><td>Recommended</td><td>25</td></tr>",
                            "<tr><td>&lt;results numplayers=&quot;5&quot;&gt;&lt;result value=&quot;Best&quot; numvotes=&quot;5&quot; /&gt;&lt;result value=&quot;Recommended&quot; numvotes=&quot;25&quot; /&gt;&lt;result value=&quot;Not Recommended&quot; numvotes=&quot;13&quot; /&gt;&lt;/results&gt;</td><td>5</td><td>Not Recommended</td><td>13</td></tr>",
                            "<tr><td>&lt;results numplayers=&quot;5+&quot;&gt;&lt;result value=&quot;Best&quot; numvotes=&quot;0&quot; /&gt;&lt;result value=&quot;Recommended&quot; numvotes=&quot;3&quot; /&gt;&lt;result value=&quot;Not Recommended&quot; numvotes=&quot;24&quot; /&gt;&lt;/results&gt;</td><td>5+</td><td>Best</td><td>0</td></tr>",
                            "<tr><td>&lt;results numplayers=&quot;5+&quot;&gt;&lt;result value=&quot;Best&quot; numvotes=&quot;0&quot; /&gt;&lt;result value=&quot;Recommended&quot; numvotes=&quot;3&quot; /&gt;&lt;result value=&quot;Not Recommended&quot; numvotes=&quot;24&quot; /&gt;&lt;/results&gt;</td><td>5+</td><td>Recommended</td><td>3</td></tr>",
                            "<tr><td>&lt;results numplayers=&quot;5+&quot;&gt;&lt;result value=&quot;Best&quot; numvotes=&quot;0&quot; /&gt;&lt;result value=&quot;Recommended&quot; numvotes=&quot;3&quot; /&gt;&lt;result value=&quot;Not Recommended&quot; numvotes=&quot;24&quot; /&gt;&lt;/results&gt;</td><td>5+</td><td>Not Recommended</td><td>24</td></tr>",
                            "</table>"
                        ]
                    }
                }
            ],
            "execution_count": 3
        },
        {
            "cell_type": "markdown",
            "source": [
                "R from the first query gives us XML and we repeat the process to give us R2 which repeats for each repetition of the full XML document. Six rows from the first CROSS APPLY each hold three result values so we end up with 18 rows in total. We pick some values from each level to give us the full picture on each row.\n",
                "\n",
                "We can instead go directly to the bottom level rather than using CROSS APPLY twice but how do we then get those values (NumPlayers in our case)?  \n",
                "This is where the detail of what the nodes method does becomes important, it’s a common misconception (one I held anyway) that nodes cuts up the XML, splits it between rows and throws away everything else but that’s not accurate. Look back up to the official definition and note the word “_logical_” and the final sentence “_This way, later queries can navigate relative to these context nodes_“.  \n",
                "Nodes is less like a pair of scissors and more like an open all sub folders option in a file explorer. We get one new window for each sub folder but any files or folders above that aren’t gone and we can always navigate back up to them.\n",
                "\n",
                "With that in mind and an awareness that we can use ‘..’ within XPath to move up to the parent of an object we can re-write to give this."
            ],
            "metadata": {
                "azdata_cell_guid": "14a93e39-9468-4fc3-b65b-e76b82660ea9"
            }
        },
        {
            "cell_type": "code",
            "source": [
                "SELECT\r\n",
                "R2.ResultsXML.query('.') AS ResultLevelXML,\r\n",
                "R2.ResultsXML.query('..') AS ResultsLevelXML,\r\n",
                "R2.ResultsXML.value('../@numplayers','varchar(50)') AS NumPlayers,\r\n",
                "R2.ResultsXML.value('./@value','varchar(50)') AS PollValue,\r\n",
                "R2.ResultsXML.value('./@numvotes','int') AS NumberOfVotes,\r\n",
                "R2.ResultsXML.value('../../@title','varchar(50)') AS Poll\r\n",
                "FROM #MyXML AS X\r\n",
                "CROSS APPLY X.MyXML.nodes('/items/item/poll/results/result') AS R2(ResultsXML);"
            ],
            "metadata": {
                "azdata_cell_guid": "4d0d03a9-f1c5-427c-9554-b6b405196cea",
                "tags": []
            },
            "outputs": [],
            "execution_count": null
        },
        {
            "cell_type": "markdown",
            "source": [
                "Results in the same eighteen rows. To demonstrate the concept a step further we go up two levels to obtain the poll title as well.\n",
                "\n",
                "_Note:_ I’ve seen suggestions that the second approach can lead to performance issues when you make heavy use of navigating back up the XML structure. I’ve never seen this myself but it’s worth doing some tests to decide which approach you prefer.\n",
                "\n",
                "That covers the nodes method. Next time round we’ll take a look at the exists method and how it can be used to filter results or check inside XML without having to fully shred it.\n",
                "\n",
                "Querying XML In SQL Server Series\n",
                "\n",
                "- [Part 1 – Introduction](https://barneylawrence.com/2021/03/15/querying-xml-in-sql-server-part-1-introduction/)\n",
                "- [Part 2 – Simple Paths and Attributes With the Value Method](https://barneylawrence.com/2021/03/23/querying-xml-in-sql-server-part-2-simple-paths-and-attributes-with-the-value-method/)\n",
                "- [Part 3 – Handling Repeating Regions With the Nodes Method](https://barneylawrence.com/2021/03/30/querying-xml-in-sql-server-part-3-handling-repeating-regions-with-the-nodes-method/)\n",
                "- [Part 4 – Filtering With The Exist Method](https://barneylawrence.com/2021/04/07/querying-xml-in-sql-server-part-4-filtering-with-the-exist-method/)"
            ],
            "metadata": {
                "azdata_cell_guid": "1bcc9812-1685-4698-8fbd-8ad84ff1c575"
            }
        }
    ]
}