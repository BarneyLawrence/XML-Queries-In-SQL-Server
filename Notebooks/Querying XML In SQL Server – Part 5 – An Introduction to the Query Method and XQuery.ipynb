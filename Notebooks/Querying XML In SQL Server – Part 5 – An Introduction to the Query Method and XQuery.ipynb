{
    "metadata": {
        "kernelspec": {
            "name": "SQL",
            "display_name": "SQL",
            "language": "sql"
        },
        "language_info": {
            "name": "sql",
            "version": ""
        }
    },
    "nbformat_minor": 2,
    "nbformat": 4,
    "cells": [
        {
            "cell_type": "markdown",
            "source": [
                "# Querying XML In SQL Server – Part 5 – An Introduction to the Query Method and XQuery\n",
                "\n",
                "_Did you know there’s a whole extra query language hidden inside SQL Server. Time to see XQuery in action with our XML._\n",
                "\n",
                "Last time round we [looked at exists](https://barneylawrence.com/2021/04/07/querying-xml-in-sql-server-part-4-filtering-with-the-exist-method/), this time round it’s the query method. Similar to exists there’s rarely anything that you can do that you can’t also handle in SQL but there’s a lot of cases where it makes things either easier, neater or faster.  \n",
                "There is probably as much if not more to say about the query method as there the preceding methods put together so this post will be more of a guide on how to use it and some inspiration rather than comprehensive coverage. I’ll add more posts with examples as and when I’m inspired.\n",
                "\n",
                "The query method does what you’d expect, it allows you to run a query against a piece of XML. Documentation for the method is [here](https://docs.microsoft.com/en-us/sql/t-sql/xml/query-method-xml-data-type?view=sql-server-ver15), it takes a string as the input and behind that string is XQuery an entire\\* new language hidden away in your SQL Server instance. Documentation for the XQuery language as implemented in SQL Server is [here](https://docs.microsoft.com/en-us/sql/xquery/xquery-language-reference-sql-server?view=sql-server-ver15). It’s worth a browse, particularly the coded examples which often go a long way to providing models you can adapt to your needs.  \n",
                "You can think of XQuery as a superset of the XPath we’ve been using so far to navigate the levels of our XML, it does that and then a whole lot more on top to manipulate and apply functions to those paths. I’m not intending this to be a full tutorial on XQuery, that’s too big a job for a single post. Consider this more a recipe book and inspiration. I’m also going to focus on getting data out of XML. You can use XQuery to build XML as well but I’m not sure there are a lot of use cases for that inside SQL Server (do share in the comments if you have some).  \n",
                "It returns the XML data type, sometimes that’s actual XML other times it’s just text or a number that we’ll want to convert appropriately.\n",
                "\n",
                "Let’s start as ever with our sample XML."
            ],
            "metadata": {
                "azdata_cell_guid": "6d800313-16d0-4692-84c2-146114504115"
            }
        },
        {
            "cell_type": "code",
            "source": [
                "CREATE TABLE #MyXML (MyXML XML NOT NULL);\r\n",
                "  \r\n",
                "INSERT INTO #MyXML(MyXML)\r\n",
                "VALUES\r\n",
                "(\r\n",
                "'<?xml version=\"1.0\" encoding=\"UTF-8\"?>\r\n",
                "<items termsofuse=\"https://boardgamegeek.com/xmlapi/termsofuse\">\r\n",
                "   <item type=\"boardgame\" id=\"91514\">\r\n",
                "      <thumbnail>https://cf.geekdo-images.com/R_VAhiLCzl5RXKwSluvEbg__thumb/img/zpzD1TJLfuNEjuTjpPbN1y1mpss=/fit-in/200x150/filters:strip_icc()/pic3271388.jpg</thumbnail>\r\n",
                "      <image>https://cf.geekdo-images.com/R_VAhiLCzl5RXKwSluvEbg__original/img/hVn3HtD2_5vKNjhEBkL1qFB4FaU=/0x0/filters:format(jpeg)/pic3271388.jpg</image>\r\n",
                "      <name type=\"primary\" sortindex=\"1\" value=\"Rhino Hero\" />\r\n",
                "      <name type=\"alternate\" sortindex=\"1\" value=\"Rino Ercolino\" />\r\n",
                "      <name type=\"alternate\" sortindex=\"1\" value=\"Super Rhino!\" />\r\n",
                "      <name type=\"alternate\" sortindex=\"1\" value=\"Super Rino!\" />\r\n",
                "      <description>\r\n",
                "        Super Rhino! presents players with an incredibly heroic &amp;ndash; and regrettably heavy &amp;ndash; rhinoceros who is eager to climb a tall building and leap other tall buildings in a single bound. \r\n",
                "      </description>\r\n",
                "      <yearpublished value=\"2011\" />\r\n",
                "      <minplayers value=\"2\" />\r\n",
                "      <maxplayers value=\"5\" />\r\n",
                "      <poll name=\"suggested_numplayers\" title=\"User Suggested Number of Players\" totalvotes=\"61\">\r\n",
                "         <results numplayers=\"1\">\r\n",
                "            <result value=\"Best\" numvotes=\"0\" />\r\n",
                "            <result value=\"Recommended\" numvotes=\"7\" />\r\n",
                "            <result value=\"Not Recommended\" numvotes=\"29\" />\r\n",
                "         </results>\r\n",
                "         <results numplayers=\"2\">\r\n",
                "            <result value=\"Best\" numvotes=\"10\" />\r\n",
                "            <result value=\"Recommended\" numvotes=\"40\" />\r\n",
                "            <result value=\"Not Recommended\" numvotes=\"3\" />\r\n",
                "         </results>\r\n",
                "         <results numplayers=\"3\">\r\n",
                "            <result value=\"Best\" numvotes=\"44\" />\r\n",
                "            <result value=\"Recommended\" numvotes=\"11\" />\r\n",
                "            <result value=\"Not Recommended\" numvotes=\"0\" />\r\n",
                "         </results>\r\n",
                "         <results numplayers=\"4\">\r\n",
                "            <result value=\"Best\" numvotes=\"18\" />\r\n",
                "            <result value=\"Recommended\" numvotes=\"30\" />\r\n",
                "            <result value=\"Not Recommended\" numvotes=\"1\" />\r\n",
                "         </results>\r\n",
                "         <results numplayers=\"5\">\r\n",
                "            <result value=\"Best\" numvotes=\"5\" />\r\n",
                "            <result value=\"Recommended\" numvotes=\"25\" />\r\n",
                "            <result value=\"Not Recommended\" numvotes=\"13\" />\r\n",
                "         </results>\r\n",
                "         <results numplayers=\"5+\">\r\n",
                "            <result value=\"Best\" numvotes=\"0\" />\r\n",
                "            <result value=\"Recommended\" numvotes=\"3\" />\r\n",
                "            <result value=\"Not Recommended\" numvotes=\"24\" />\r\n",
                "         </results>\r\n",
                "      </poll>\r\n",
                "      <playingtime value=\"15\" />\r\n",
                "      <minplaytime value=\"5\" />\r\n",
                "      <maxplaytime value=\"15\" />\r\n",
                "      <minage value=\"5\" />\r\n",
                "   </item>\r\n",
                "</items>'\r\n",
                ");\r\n",
                "  \r\n",
                "SELECT * FROM #MyXML;"
            ],
            "metadata": {
                "azdata_cell_guid": "87dd6012-a6b4-42c6-bc3f-47a804eb655e"
            },
            "outputs": [
                {
                    "output_type": "display_data",
                    "data": {
                        "text/html": "(1 row affected)"
                    },
                    "metadata": {}
                },
                {
                    "output_type": "display_data",
                    "data": {
                        "text/html": "(1 row affected)"
                    },
                    "metadata": {}
                },
                {
                    "output_type": "display_data",
                    "data": {
                        "text/html": "Total execution time: 00:00:00.107"
                    },
                    "metadata": {}
                },
                {
                    "output_type": "execute_result",
                    "metadata": {},
                    "execution_count": 1,
                    "data": {
                        "application/vnd.dataresource+json": {
                            "schema": {
                                "fields": [
                                    {
                                        "name": "MyXML"
                                    }
                                ]
                            },
                            "data": [
                                {
                                    "0": "<items termsofuse=\"https://boardgamegeek.com/xmlapi/termsofuse\"><item type=\"boardgame\" id=\"91514\"><thumbnail>https://cf.geekdo-images.com/R_VAhiLCzl5RXKwSluvEbg__thumb/img/zpzD1TJLfuNEjuTjpPbN1y1mpss=/fit-in/200x150/filters:strip_icc()/pic3271388.jpg</thumbnail><image>https://cf.geekdo-images.com/R_VAhiLCzl5RXKwSluvEbg__original/img/hVn3HtD2_5vKNjhEBkL1qFB4FaU=/0x0/filters:format(jpeg)/pic3271388.jpg</image><name type=\"primary\" sortindex=\"1\" value=\"Rhino Hero\" /><name type=\"alternate\" sortindex=\"1\" value=\"Rino Ercolino\" /><name type=\"alternate\" sortindex=\"1\" value=\"Super Rhino!\" /><name type=\"alternate\" sortindex=\"1\" value=\"Super Rino!\" /><description>\r\n        Super Rhino! presents players with an incredibly heroic &amp;ndash; and regrettably heavy &amp;ndash; rhinoceros who is eager to climb a tall building and leap other tall buildings in a single bound. \r\n      </description><yearpublished value=\"2011\" /><minplayers value=\"2\" /><maxplayers value=\"5\" /><poll name=\"suggested_numplayers\" title=\"User Suggested Number of Players\" totalvotes=\"61\"><results numplayers=\"1\"><result value=\"Best\" numvotes=\"0\" /><result value=\"Recommended\" numvotes=\"7\" /><result value=\"Not Recommended\" numvotes=\"29\" /></results><results numplayers=\"2\"><result value=\"Best\" numvotes=\"10\" /><result value=\"Recommended\" numvotes=\"40\" /><result value=\"Not Recommended\" numvotes=\"3\" /></results><results numplayers=\"3\"><result value=\"Best\" numvotes=\"44\" /><result value=\"Recommended\" numvotes=\"11\" /><result value=\"Not Recommended\" numvotes=\"0\" /></results><results numplayers=\"4\"><result value=\"Best\" numvotes=\"18\" /><result value=\"Recommended\" numvotes=\"30\" /><result value=\"Not Recommended\" numvotes=\"1\" /></results><results numplayers=\"5\"><result value=\"Best\" numvotes=\"5\" /><result value=\"Recommended\" numvotes=\"25\" /><result value=\"Not Recommended\" numvotes=\"13\" /></results><results numplayers=\"5+\"><result value=\"Best\" numvotes=\"0\" /><result value=\"Recommended\" numvotes=\"3\" /><result value=\"Not Recommended\" numvotes=\"24\" /></results></poll><playingtime value=\"15\" /><minplaytime value=\"5\" /><maxplaytime value=\"15\" /><minage value=\"5\" /></item></items>"
                                }
                            ]
                        },
                        "text/html": [
                            "<table>",
                            "<tr><th>MyXML</th></tr>",
                            "<tr><td>&lt;items termsofuse=&quot;https://boardgamegeek.com/xmlapi/termsofuse&quot;&gt;&lt;item type=&quot;boardgame&quot; id=&quot;91514&quot;&gt;&lt;thumbnail&gt;https://cf.geekdo-images.com/R_VAhiLCzl5RXKwSluvEbg__thumb/img/zpzD1TJLfuNEjuTjpPbN1y1mpss=/fit-in/200x150/filters:strip_icc()/pic3271388.jpg&lt;/thumbnail&gt;&lt;image&gt;https://cf.geekdo-images.com/R_VAhiLCzl5RXKwSluvEbg__original/img/hVn3HtD2_5vKNjhEBkL1qFB4FaU=/0x0/filters:format(jpeg)/pic3271388.jpg&lt;/image&gt;&lt;name type=&quot;primary&quot; sortindex=&quot;1&quot; value=&quot;Rhino Hero&quot; /&gt;&lt;name type=&quot;alternate&quot; sortindex=&quot;1&quot; value=&quot;Rino Ercolino&quot; /&gt;&lt;name type=&quot;alternate&quot; sortindex=&quot;1&quot; value=&quot;Super Rhino!&quot; /&gt;&lt;name type=&quot;alternate&quot; sortindex=&quot;1&quot; value=&quot;Super Rino!&quot; /&gt;&lt;description&gt;\r\n        Super Rhino! presents players with an incredibly heroic &amp;amp;ndash; and regrettably heavy &amp;amp;ndash; rhinoceros who is eager to climb a tall building and leap other tall buildings in a single bound. \r\n      &lt;/description&gt;&lt;yearpublished value=&quot;2011&quot; /&gt;&lt;minplayers value=&quot;2&quot; /&gt;&lt;maxplayers value=&quot;5&quot; /&gt;&lt;poll name=&quot;suggested_numplayers&quot; title=&quot;User Suggested Number of Players&quot; totalvotes=&quot;61&quot;&gt;&lt;results numplayers=&quot;1&quot;&gt;&lt;result value=&quot;Best&quot; numvotes=&quot;0&quot; /&gt;&lt;result value=&quot;Recommended&quot; numvotes=&quot;7&quot; /&gt;&lt;result value=&quot;Not Recommended&quot; numvotes=&quot;29&quot; /&gt;&lt;/results&gt;&lt;results numplayers=&quot;2&quot;&gt;&lt;result value=&quot;Best&quot; numvotes=&quot;10&quot; /&gt;&lt;result value=&quot;Recommended&quot; numvotes=&quot;40&quot; /&gt;&lt;result value=&quot;Not Recommended&quot; numvotes=&quot;3&quot; /&gt;&lt;/results&gt;&lt;results numplayers=&quot;3&quot;&gt;&lt;result value=&quot;Best&quot; numvotes=&quot;44&quot; /&gt;&lt;result value=&quot;Recommended&quot; numvotes=&quot;11&quot; /&gt;&lt;result value=&quot;Not Recommended&quot; numvotes=&quot;0&quot; /&gt;&lt;/results&gt;&lt;results numplayers=&quot;4&quot;&gt;&lt;result value=&quot;Best&quot; numvotes=&quot;18&quot; /&gt;&lt;result value=&quot;Recommended&quot; numvotes=&quot;30&quot; /&gt;&lt;result value=&quot;Not Recommended&quot; numvotes=&quot;1&quot; /&gt;&lt;/results&gt;&lt;results numplayers=&quot;5&quot;&gt;&lt;result value=&quot;Best&quot; numvotes=&quot;5&quot; /&gt;&lt;result value=&quot;Recommended&quot; numvotes=&quot;25&quot; /&gt;&lt;result value=&quot;Not Recommended&quot; numvotes=&quot;13&quot; /&gt;&lt;/results&gt;&lt;results numplayers=&quot;5+&quot;&gt;&lt;result value=&quot;Best&quot; numvotes=&quot;0&quot; /&gt;&lt;result value=&quot;Recommended&quot; numvotes=&quot;3&quot; /&gt;&lt;result value=&quot;Not Recommended&quot; numvotes=&quot;24&quot; /&gt;&lt;/results&gt;&lt;/poll&gt;&lt;playingtime value=&quot;15&quot; /&gt;&lt;minplaytime value=&quot;5&quot; /&gt;&lt;maxplaytime value=&quot;15&quot; /&gt;&lt;minage value=&quot;5&quot; /&gt;&lt;/item&gt;&lt;/items&gt;</td></tr>",
                            "</table>"
                        ]
                    }
                }
            ],
            "execution_count": 1
        },
        {
            "cell_type": "markdown",
            "source": [
                "<span style=\"color: rgb(26, 26, 26); font-family: Merriweather, Georgia, serif; font-size: 16px; background-color: rgb(255, 255, 255);\">We encountered the simplest form of XQuery earlier when looking at nodes.</span>  \n",
                "<span style=\"color: rgb(26, 26, 26); font-family: Merriweather, Georgia, serif; font-size: 16px; background-color: rgb(255, 255, 255);\">The below gives a neat way to view the XML in the current context and up at the parent level. I use this often as a help during development. If the results are going in to a view I’ll probably leave them there as the test team can find them helpful too but it’s not something I’d want filling up disk space.</span>"
            ],
            "metadata": {
                "azdata_cell_guid": "afb2cb87-1a84-4179-bc8d-32c5e1920656"
            }
        },
        {
            "cell_type": "code",
            "source": [
                "SELECT\r\n",
                "R.ResultXML.query('.') AS ResultLevelXML,\r\n",
                "R.ResultXML.value('.','varchar(max)') AS ResultLevelXMLValue,\r\n",
                "cast(R.ResultXML.query('.') as varchar(max)) AS ResultLevelXMLCast,\r\n",
                "R.ResultXML.query('..') AS PollLevelXML\r\n",
                "FROM #MyXML AS X\r\n",
                "CROSS APPLY X.MyXML.nodes('/items/item/poll/results') AS R(ResultXML);\r\n",
                ""
            ],
            "metadata": {
                "azdata_cell_guid": "b93329c0-175a-4e1a-b51d-005ba257963e",
                "tags": []
            },
            "outputs": [
                {
                    "output_type": "display_data",
                    "data": {
                        "text/html": "(6 rows affected)"
                    },
                    "metadata": {}
                },
                {
                    "output_type": "display_data",
                    "data": {
                        "text/html": "Total execution time: 00:00:00.034"
                    },
                    "metadata": {}
                },
                {
                    "output_type": "execute_result",
                    "metadata": {},
                    "execution_count": 2,
                    "data": {
                        "application/vnd.dataresource+json": {
                            "schema": {
                                "fields": [
                                    {
                                        "name": "ResultLevelXML"
                                    },
                                    {
                                        "name": "ResultLevelXMLValue"
                                    },
                                    {
                                        "name": "ResultLevelXMLCast"
                                    },
                                    {
                                        "name": "PollLevelXML"
                                    }
                                ]
                            },
                            "data": [
                                {
                                    "0": "<results numplayers=\"1\"><result value=\"Best\" numvotes=\"0\" /><result value=\"Recommended\" numvotes=\"7\" /><result value=\"Not Recommended\" numvotes=\"29\" /></results>",
                                    "1": "",
                                    "2": "<results numplayers=\"1\"><result value=\"Best\" numvotes=\"0\"/><result value=\"Recommended\" numvotes=\"7\"/><result value=\"Not Recommended\" numvotes=\"29\"/></results>",
                                    "3": "<poll name=\"suggested_numplayers\" title=\"User Suggested Number of Players\" totalvotes=\"61\"><results numplayers=\"1\"><result value=\"Best\" numvotes=\"0\" /><result value=\"Recommended\" numvotes=\"7\" /><result value=\"Not Recommended\" numvotes=\"29\" /></results><results numplayers=\"2\"><result value=\"Best\" numvotes=\"10\" /><result value=\"Recommended\" numvotes=\"40\" /><result value=\"Not Recommended\" numvotes=\"3\" /></results><results numplayers=\"3\"><result value=\"Best\" numvotes=\"44\" /><result value=\"Recommended\" numvotes=\"11\" /><result value=\"Not Recommended\" numvotes=\"0\" /></results><results numplayers=\"4\"><result value=\"Best\" numvotes=\"18\" /><result value=\"Recommended\" numvotes=\"30\" /><result value=\"Not Recommended\" numvotes=\"1\" /></results><results numplayers=\"5\"><result value=\"Best\" numvotes=\"5\" /><result value=\"Recommended\" numvotes=\"25\" /><result value=\"Not Recommended\" numvotes=\"13\" /></results><results numplayers=\"5+\"><result value=\"Best\" numvotes=\"0\" /><result value=\"Recommended\" numvotes=\"3\" /><result value=\"Not Recommended\" numvotes=\"24\" /></results></poll>"
                                },
                                {
                                    "0": "<results numplayers=\"2\"><result value=\"Best\" numvotes=\"10\" /><result value=\"Recommended\" numvotes=\"40\" /><result value=\"Not Recommended\" numvotes=\"3\" /></results>",
                                    "1": "",
                                    "2": "<results numplayers=\"2\"><result value=\"Best\" numvotes=\"10\"/><result value=\"Recommended\" numvotes=\"40\"/><result value=\"Not Recommended\" numvotes=\"3\"/></results>",
                                    "3": "<poll name=\"suggested_numplayers\" title=\"User Suggested Number of Players\" totalvotes=\"61\"><results numplayers=\"1\"><result value=\"Best\" numvotes=\"0\" /><result value=\"Recommended\" numvotes=\"7\" /><result value=\"Not Recommended\" numvotes=\"29\" /></results><results numplayers=\"2\"><result value=\"Best\" numvotes=\"10\" /><result value=\"Recommended\" numvotes=\"40\" /><result value=\"Not Recommended\" numvotes=\"3\" /></results><results numplayers=\"3\"><result value=\"Best\" numvotes=\"44\" /><result value=\"Recommended\" numvotes=\"11\" /><result value=\"Not Recommended\" numvotes=\"0\" /></results><results numplayers=\"4\"><result value=\"Best\" numvotes=\"18\" /><result value=\"Recommended\" numvotes=\"30\" /><result value=\"Not Recommended\" numvotes=\"1\" /></results><results numplayers=\"5\"><result value=\"Best\" numvotes=\"5\" /><result value=\"Recommended\" numvotes=\"25\" /><result value=\"Not Recommended\" numvotes=\"13\" /></results><results numplayers=\"5+\"><result value=\"Best\" numvotes=\"0\" /><result value=\"Recommended\" numvotes=\"3\" /><result value=\"Not Recommended\" numvotes=\"24\" /></results></poll>"
                                },
                                {
                                    "0": "<results numplayers=\"3\"><result value=\"Best\" numvotes=\"44\" /><result value=\"Recommended\" numvotes=\"11\" /><result value=\"Not Recommended\" numvotes=\"0\" /></results>",
                                    "1": "",
                                    "2": "<results numplayers=\"3\"><result value=\"Best\" numvotes=\"44\"/><result value=\"Recommended\" numvotes=\"11\"/><result value=\"Not Recommended\" numvotes=\"0\"/></results>",
                                    "3": "<poll name=\"suggested_numplayers\" title=\"User Suggested Number of Players\" totalvotes=\"61\"><results numplayers=\"1\"><result value=\"Best\" numvotes=\"0\" /><result value=\"Recommended\" numvotes=\"7\" /><result value=\"Not Recommended\" numvotes=\"29\" /></results><results numplayers=\"2\"><result value=\"Best\" numvotes=\"10\" /><result value=\"Recommended\" numvotes=\"40\" /><result value=\"Not Recommended\" numvotes=\"3\" /></results><results numplayers=\"3\"><result value=\"Best\" numvotes=\"44\" /><result value=\"Recommended\" numvotes=\"11\" /><result value=\"Not Recommended\" numvotes=\"0\" /></results><results numplayers=\"4\"><result value=\"Best\" numvotes=\"18\" /><result value=\"Recommended\" numvotes=\"30\" /><result value=\"Not Recommended\" numvotes=\"1\" /></results><results numplayers=\"5\"><result value=\"Best\" numvotes=\"5\" /><result value=\"Recommended\" numvotes=\"25\" /><result value=\"Not Recommended\" numvotes=\"13\" /></results><results numplayers=\"5+\"><result value=\"Best\" numvotes=\"0\" /><result value=\"Recommended\" numvotes=\"3\" /><result value=\"Not Recommended\" numvotes=\"24\" /></results></poll>"
                                },
                                {
                                    "0": "<results numplayers=\"4\"><result value=\"Best\" numvotes=\"18\" /><result value=\"Recommended\" numvotes=\"30\" /><result value=\"Not Recommended\" numvotes=\"1\" /></results>",
                                    "1": "",
                                    "2": "<results numplayers=\"4\"><result value=\"Best\" numvotes=\"18\"/><result value=\"Recommended\" numvotes=\"30\"/><result value=\"Not Recommended\" numvotes=\"1\"/></results>",
                                    "3": "<poll name=\"suggested_numplayers\" title=\"User Suggested Number of Players\" totalvotes=\"61\"><results numplayers=\"1\"><result value=\"Best\" numvotes=\"0\" /><result value=\"Recommended\" numvotes=\"7\" /><result value=\"Not Recommended\" numvotes=\"29\" /></results><results numplayers=\"2\"><result value=\"Best\" numvotes=\"10\" /><result value=\"Recommended\" numvotes=\"40\" /><result value=\"Not Recommended\" numvotes=\"3\" /></results><results numplayers=\"3\"><result value=\"Best\" numvotes=\"44\" /><result value=\"Recommended\" numvotes=\"11\" /><result value=\"Not Recommended\" numvotes=\"0\" /></results><results numplayers=\"4\"><result value=\"Best\" numvotes=\"18\" /><result value=\"Recommended\" numvotes=\"30\" /><result value=\"Not Recommended\" numvotes=\"1\" /></results><results numplayers=\"5\"><result value=\"Best\" numvotes=\"5\" /><result value=\"Recommended\" numvotes=\"25\" /><result value=\"Not Recommended\" numvotes=\"13\" /></results><results numplayers=\"5+\"><result value=\"Best\" numvotes=\"0\" /><result value=\"Recommended\" numvotes=\"3\" /><result value=\"Not Recommended\" numvotes=\"24\" /></results></poll>"
                                },
                                {
                                    "0": "<results numplayers=\"5\"><result value=\"Best\" numvotes=\"5\" /><result value=\"Recommended\" numvotes=\"25\" /><result value=\"Not Recommended\" numvotes=\"13\" /></results>",
                                    "1": "",
                                    "2": "<results numplayers=\"5\"><result value=\"Best\" numvotes=\"5\"/><result value=\"Recommended\" numvotes=\"25\"/><result value=\"Not Recommended\" numvotes=\"13\"/></results>",
                                    "3": "<poll name=\"suggested_numplayers\" title=\"User Suggested Number of Players\" totalvotes=\"61\"><results numplayers=\"1\"><result value=\"Best\" numvotes=\"0\" /><result value=\"Recommended\" numvotes=\"7\" /><result value=\"Not Recommended\" numvotes=\"29\" /></results><results numplayers=\"2\"><result value=\"Best\" numvotes=\"10\" /><result value=\"Recommended\" numvotes=\"40\" /><result value=\"Not Recommended\" numvotes=\"3\" /></results><results numplayers=\"3\"><result value=\"Best\" numvotes=\"44\" /><result value=\"Recommended\" numvotes=\"11\" /><result value=\"Not Recommended\" numvotes=\"0\" /></results><results numplayers=\"4\"><result value=\"Best\" numvotes=\"18\" /><result value=\"Recommended\" numvotes=\"30\" /><result value=\"Not Recommended\" numvotes=\"1\" /></results><results numplayers=\"5\"><result value=\"Best\" numvotes=\"5\" /><result value=\"Recommended\" numvotes=\"25\" /><result value=\"Not Recommended\" numvotes=\"13\" /></results><results numplayers=\"5+\"><result value=\"Best\" numvotes=\"0\" /><result value=\"Recommended\" numvotes=\"3\" /><result value=\"Not Recommended\" numvotes=\"24\" /></results></poll>"
                                },
                                {
                                    "0": "<results numplayers=\"5+\"><result value=\"Best\" numvotes=\"0\" /><result value=\"Recommended\" numvotes=\"3\" /><result value=\"Not Recommended\" numvotes=\"24\" /></results>",
                                    "1": "",
                                    "2": "<results numplayers=\"5+\"><result value=\"Best\" numvotes=\"0\"/><result value=\"Recommended\" numvotes=\"3\"/><result value=\"Not Recommended\" numvotes=\"24\"/></results>",
                                    "3": "<poll name=\"suggested_numplayers\" title=\"User Suggested Number of Players\" totalvotes=\"61\"><results numplayers=\"1\"><result value=\"Best\" numvotes=\"0\" /><result value=\"Recommended\" numvotes=\"7\" /><result value=\"Not Recommended\" numvotes=\"29\" /></results><results numplayers=\"2\"><result value=\"Best\" numvotes=\"10\" /><result value=\"Recommended\" numvotes=\"40\" /><result value=\"Not Recommended\" numvotes=\"3\" /></results><results numplayers=\"3\"><result value=\"Best\" numvotes=\"44\" /><result value=\"Recommended\" numvotes=\"11\" /><result value=\"Not Recommended\" numvotes=\"0\" /></results><results numplayers=\"4\"><result value=\"Best\" numvotes=\"18\" /><result value=\"Recommended\" numvotes=\"30\" /><result value=\"Not Recommended\" numvotes=\"1\" /></results><results numplayers=\"5\"><result value=\"Best\" numvotes=\"5\" /><result value=\"Recommended\" numvotes=\"25\" /><result value=\"Not Recommended\" numvotes=\"13\" /></results><results numplayers=\"5+\"><result value=\"Best\" numvotes=\"0\" /><result value=\"Recommended\" numvotes=\"3\" /><result value=\"Not Recommended\" numvotes=\"24\" /></results></poll>"
                                }
                            ]
                        },
                        "text/html": [
                            "<table>",
                            "<tr><th>ResultLevelXML</th><th>ResultLevelXMLValue</th><th>ResultLevelXMLCast</th><th>PollLevelXML</th></tr>",
                            "<tr><td>&lt;results numplayers=&quot;1&quot;&gt;&lt;result value=&quot;Best&quot; numvotes=&quot;0&quot; /&gt;&lt;result value=&quot;Recommended&quot; numvotes=&quot;7&quot; /&gt;&lt;result value=&quot;Not Recommended&quot; numvotes=&quot;29&quot; /&gt;&lt;/results&gt;</td><td></td><td>&lt;results numplayers=&quot;1&quot;&gt;&lt;result value=&quot;Best&quot; numvotes=&quot;0&quot;/&gt;&lt;result value=&quot;Recommended&quot; numvotes=&quot;7&quot;/&gt;&lt;result value=&quot;Not Recommended&quot; numvotes=&quot;29&quot;/&gt;&lt;/results&gt;</td><td>&lt;poll name=&quot;suggested_numplayers&quot; title=&quot;User Suggested Number of Players&quot; totalvotes=&quot;61&quot;&gt;&lt;results numplayers=&quot;1&quot;&gt;&lt;result value=&quot;Best&quot; numvotes=&quot;0&quot; /&gt;&lt;result value=&quot;Recommended&quot; numvotes=&quot;7&quot; /&gt;&lt;result value=&quot;Not Recommended&quot; numvotes=&quot;29&quot; /&gt;&lt;/results&gt;&lt;results numplayers=&quot;2&quot;&gt;&lt;result value=&quot;Best&quot; numvotes=&quot;10&quot; /&gt;&lt;result value=&quot;Recommended&quot; numvotes=&quot;40&quot; /&gt;&lt;result value=&quot;Not Recommended&quot; numvotes=&quot;3&quot; /&gt;&lt;/results&gt;&lt;results numplayers=&quot;3&quot;&gt;&lt;result value=&quot;Best&quot; numvotes=&quot;44&quot; /&gt;&lt;result value=&quot;Recommended&quot; numvotes=&quot;11&quot; /&gt;&lt;result value=&quot;Not Recommended&quot; numvotes=&quot;0&quot; /&gt;&lt;/results&gt;&lt;results numplayers=&quot;4&quot;&gt;&lt;result value=&quot;Best&quot; numvotes=&quot;18&quot; /&gt;&lt;result value=&quot;Recommended&quot; numvotes=&quot;30&quot; /&gt;&lt;result value=&quot;Not Recommended&quot; numvotes=&quot;1&quot; /&gt;&lt;/results&gt;&lt;results numplayers=&quot;5&quot;&gt;&lt;result value=&quot;Best&quot; numvotes=&quot;5&quot; /&gt;&lt;result value=&quot;Recommended&quot; numvotes=&quot;25&quot; /&gt;&lt;result value=&quot;Not Recommended&quot; numvotes=&quot;13&quot; /&gt;&lt;/results&gt;&lt;results numplayers=&quot;5+&quot;&gt;&lt;result value=&quot;Best&quot; numvotes=&quot;0&quot; /&gt;&lt;result value=&quot;Recommended&quot; numvotes=&quot;3&quot; /&gt;&lt;result value=&quot;Not Recommended&quot; numvotes=&quot;24&quot; /&gt;&lt;/results&gt;&lt;/poll&gt;</td></tr>",
                            "<tr><td>&lt;results numplayers=&quot;2&quot;&gt;&lt;result value=&quot;Best&quot; numvotes=&quot;10&quot; /&gt;&lt;result value=&quot;Recommended&quot; numvotes=&quot;40&quot; /&gt;&lt;result value=&quot;Not Recommended&quot; numvotes=&quot;3&quot; /&gt;&lt;/results&gt;</td><td></td><td>&lt;results numplayers=&quot;2&quot;&gt;&lt;result value=&quot;Best&quot; numvotes=&quot;10&quot;/&gt;&lt;result value=&quot;Recommended&quot; numvotes=&quot;40&quot;/&gt;&lt;result value=&quot;Not Recommended&quot; numvotes=&quot;3&quot;/&gt;&lt;/results&gt;</td><td>&lt;poll name=&quot;suggested_numplayers&quot; title=&quot;User Suggested Number of Players&quot; totalvotes=&quot;61&quot;&gt;&lt;results numplayers=&quot;1&quot;&gt;&lt;result value=&quot;Best&quot; numvotes=&quot;0&quot; /&gt;&lt;result value=&quot;Recommended&quot; numvotes=&quot;7&quot; /&gt;&lt;result value=&quot;Not Recommended&quot; numvotes=&quot;29&quot; /&gt;&lt;/results&gt;&lt;results numplayers=&quot;2&quot;&gt;&lt;result value=&quot;Best&quot; numvotes=&quot;10&quot; /&gt;&lt;result value=&quot;Recommended&quot; numvotes=&quot;40&quot; /&gt;&lt;result value=&quot;Not Recommended&quot; numvotes=&quot;3&quot; /&gt;&lt;/results&gt;&lt;results numplayers=&quot;3&quot;&gt;&lt;result value=&quot;Best&quot; numvotes=&quot;44&quot; /&gt;&lt;result value=&quot;Recommended&quot; numvotes=&quot;11&quot; /&gt;&lt;result value=&quot;Not Recommended&quot; numvotes=&quot;0&quot; /&gt;&lt;/results&gt;&lt;results numplayers=&quot;4&quot;&gt;&lt;result value=&quot;Best&quot; numvotes=&quot;18&quot; /&gt;&lt;result value=&quot;Recommended&quot; numvotes=&quot;30&quot; /&gt;&lt;result value=&quot;Not Recommended&quot; numvotes=&quot;1&quot; /&gt;&lt;/results&gt;&lt;results numplayers=&quot;5&quot;&gt;&lt;result value=&quot;Best&quot; numvotes=&quot;5&quot; /&gt;&lt;result value=&quot;Recommended&quot; numvotes=&quot;25&quot; /&gt;&lt;result value=&quot;Not Recommended&quot; numvotes=&quot;13&quot; /&gt;&lt;/results&gt;&lt;results numplayers=&quot;5+&quot;&gt;&lt;result value=&quot;Best&quot; numvotes=&quot;0&quot; /&gt;&lt;result value=&quot;Recommended&quot; numvotes=&quot;3&quot; /&gt;&lt;result value=&quot;Not Recommended&quot; numvotes=&quot;24&quot; /&gt;&lt;/results&gt;&lt;/poll&gt;</td></tr>",
                            "<tr><td>&lt;results numplayers=&quot;3&quot;&gt;&lt;result value=&quot;Best&quot; numvotes=&quot;44&quot; /&gt;&lt;result value=&quot;Recommended&quot; numvotes=&quot;11&quot; /&gt;&lt;result value=&quot;Not Recommended&quot; numvotes=&quot;0&quot; /&gt;&lt;/results&gt;</td><td></td><td>&lt;results numplayers=&quot;3&quot;&gt;&lt;result value=&quot;Best&quot; numvotes=&quot;44&quot;/&gt;&lt;result value=&quot;Recommended&quot; numvotes=&quot;11&quot;/&gt;&lt;result value=&quot;Not Recommended&quot; numvotes=&quot;0&quot;/&gt;&lt;/results&gt;</td><td>&lt;poll name=&quot;suggested_numplayers&quot; title=&quot;User Suggested Number of Players&quot; totalvotes=&quot;61&quot;&gt;&lt;results numplayers=&quot;1&quot;&gt;&lt;result value=&quot;Best&quot; numvotes=&quot;0&quot; /&gt;&lt;result value=&quot;Recommended&quot; numvotes=&quot;7&quot; /&gt;&lt;result value=&quot;Not Recommended&quot; numvotes=&quot;29&quot; /&gt;&lt;/results&gt;&lt;results numplayers=&quot;2&quot;&gt;&lt;result value=&quot;Best&quot; numvotes=&quot;10&quot; /&gt;&lt;result value=&quot;Recommended&quot; numvotes=&quot;40&quot; /&gt;&lt;result value=&quot;Not Recommended&quot; numvotes=&quot;3&quot; /&gt;&lt;/results&gt;&lt;results numplayers=&quot;3&quot;&gt;&lt;result value=&quot;Best&quot; numvotes=&quot;44&quot; /&gt;&lt;result value=&quot;Recommended&quot; numvotes=&quot;11&quot; /&gt;&lt;result value=&quot;Not Recommended&quot; numvotes=&quot;0&quot; /&gt;&lt;/results&gt;&lt;results numplayers=&quot;4&quot;&gt;&lt;result value=&quot;Best&quot; numvotes=&quot;18&quot; /&gt;&lt;result value=&quot;Recommended&quot; numvotes=&quot;30&quot; /&gt;&lt;result value=&quot;Not Recommended&quot; numvotes=&quot;1&quot; /&gt;&lt;/results&gt;&lt;results numplayers=&quot;5&quot;&gt;&lt;result value=&quot;Best&quot; numvotes=&quot;5&quot; /&gt;&lt;result value=&quot;Recommended&quot; numvotes=&quot;25&quot; /&gt;&lt;result value=&quot;Not Recommended&quot; numvotes=&quot;13&quot; /&gt;&lt;/results&gt;&lt;results numplayers=&quot;5+&quot;&gt;&lt;result value=&quot;Best&quot; numvotes=&quot;0&quot; /&gt;&lt;result value=&quot;Recommended&quot; numvotes=&quot;3&quot; /&gt;&lt;result value=&quot;Not Recommended&quot; numvotes=&quot;24&quot; /&gt;&lt;/results&gt;&lt;/poll&gt;</td></tr>",
                            "<tr><td>&lt;results numplayers=&quot;4&quot;&gt;&lt;result value=&quot;Best&quot; numvotes=&quot;18&quot; /&gt;&lt;result value=&quot;Recommended&quot; numvotes=&quot;30&quot; /&gt;&lt;result value=&quot;Not Recommended&quot; numvotes=&quot;1&quot; /&gt;&lt;/results&gt;</td><td></td><td>&lt;results numplayers=&quot;4&quot;&gt;&lt;result value=&quot;Best&quot; numvotes=&quot;18&quot;/&gt;&lt;result value=&quot;Recommended&quot; numvotes=&quot;30&quot;/&gt;&lt;result value=&quot;Not Recommended&quot; numvotes=&quot;1&quot;/&gt;&lt;/results&gt;</td><td>&lt;poll name=&quot;suggested_numplayers&quot; title=&quot;User Suggested Number of Players&quot; totalvotes=&quot;61&quot;&gt;&lt;results numplayers=&quot;1&quot;&gt;&lt;result value=&quot;Best&quot; numvotes=&quot;0&quot; /&gt;&lt;result value=&quot;Recommended&quot; numvotes=&quot;7&quot; /&gt;&lt;result value=&quot;Not Recommended&quot; numvotes=&quot;29&quot; /&gt;&lt;/results&gt;&lt;results numplayers=&quot;2&quot;&gt;&lt;result value=&quot;Best&quot; numvotes=&quot;10&quot; /&gt;&lt;result value=&quot;Recommended&quot; numvotes=&quot;40&quot; /&gt;&lt;result value=&quot;Not Recommended&quot; numvotes=&quot;3&quot; /&gt;&lt;/results&gt;&lt;results numplayers=&quot;3&quot;&gt;&lt;result value=&quot;Best&quot; numvotes=&quot;44&quot; /&gt;&lt;result value=&quot;Recommended&quot; numvotes=&quot;11&quot; /&gt;&lt;result value=&quot;Not Recommended&quot; numvotes=&quot;0&quot; /&gt;&lt;/results&gt;&lt;results numplayers=&quot;4&quot;&gt;&lt;result value=&quot;Best&quot; numvotes=&quot;18&quot; /&gt;&lt;result value=&quot;Recommended&quot; numvotes=&quot;30&quot; /&gt;&lt;result value=&quot;Not Recommended&quot; numvotes=&quot;1&quot; /&gt;&lt;/results&gt;&lt;results numplayers=&quot;5&quot;&gt;&lt;result value=&quot;Best&quot; numvotes=&quot;5&quot; /&gt;&lt;result value=&quot;Recommended&quot; numvotes=&quot;25&quot; /&gt;&lt;result value=&quot;Not Recommended&quot; numvotes=&quot;13&quot; /&gt;&lt;/results&gt;&lt;results numplayers=&quot;5+&quot;&gt;&lt;result value=&quot;Best&quot; numvotes=&quot;0&quot; /&gt;&lt;result value=&quot;Recommended&quot; numvotes=&quot;3&quot; /&gt;&lt;result value=&quot;Not Recommended&quot; numvotes=&quot;24&quot; /&gt;&lt;/results&gt;&lt;/poll&gt;</td></tr>",
                            "<tr><td>&lt;results numplayers=&quot;5&quot;&gt;&lt;result value=&quot;Best&quot; numvotes=&quot;5&quot; /&gt;&lt;result value=&quot;Recommended&quot; numvotes=&quot;25&quot; /&gt;&lt;result value=&quot;Not Recommended&quot; numvotes=&quot;13&quot; /&gt;&lt;/results&gt;</td><td></td><td>&lt;results numplayers=&quot;5&quot;&gt;&lt;result value=&quot;Best&quot; numvotes=&quot;5&quot;/&gt;&lt;result value=&quot;Recommended&quot; numvotes=&quot;25&quot;/&gt;&lt;result value=&quot;Not Recommended&quot; numvotes=&quot;13&quot;/&gt;&lt;/results&gt;</td><td>&lt;poll name=&quot;suggested_numplayers&quot; title=&quot;User Suggested Number of Players&quot; totalvotes=&quot;61&quot;&gt;&lt;results numplayers=&quot;1&quot;&gt;&lt;result value=&quot;Best&quot; numvotes=&quot;0&quot; /&gt;&lt;result value=&quot;Recommended&quot; numvotes=&quot;7&quot; /&gt;&lt;result value=&quot;Not Recommended&quot; numvotes=&quot;29&quot; /&gt;&lt;/results&gt;&lt;results numplayers=&quot;2&quot;&gt;&lt;result value=&quot;Best&quot; numvotes=&quot;10&quot; /&gt;&lt;result value=&quot;Recommended&quot; numvotes=&quot;40&quot; /&gt;&lt;result value=&quot;Not Recommended&quot; numvotes=&quot;3&quot; /&gt;&lt;/results&gt;&lt;results numplayers=&quot;3&quot;&gt;&lt;result value=&quot;Best&quot; numvotes=&quot;44&quot; /&gt;&lt;result value=&quot;Recommended&quot; numvotes=&quot;11&quot; /&gt;&lt;result value=&quot;Not Recommended&quot; numvotes=&quot;0&quot; /&gt;&lt;/results&gt;&lt;results numplayers=&quot;4&quot;&gt;&lt;result value=&quot;Best&quot; numvotes=&quot;18&quot; /&gt;&lt;result value=&quot;Recommended&quot; numvotes=&quot;30&quot; /&gt;&lt;result value=&quot;Not Recommended&quot; numvotes=&quot;1&quot; /&gt;&lt;/results&gt;&lt;results numplayers=&quot;5&quot;&gt;&lt;result value=&quot;Best&quot; numvotes=&quot;5&quot; /&gt;&lt;result value=&quot;Recommended&quot; numvotes=&quot;25&quot; /&gt;&lt;result value=&quot;Not Recommended&quot; numvotes=&quot;13&quot; /&gt;&lt;/results&gt;&lt;results numplayers=&quot;5+&quot;&gt;&lt;result value=&quot;Best&quot; numvotes=&quot;0&quot; /&gt;&lt;result value=&quot;Recommended&quot; numvotes=&quot;3&quot; /&gt;&lt;result value=&quot;Not Recommended&quot; numvotes=&quot;24&quot; /&gt;&lt;/results&gt;&lt;/poll&gt;</td></tr>",
                            "<tr><td>&lt;results numplayers=&quot;5+&quot;&gt;&lt;result value=&quot;Best&quot; numvotes=&quot;0&quot; /&gt;&lt;result value=&quot;Recommended&quot; numvotes=&quot;3&quot; /&gt;&lt;result value=&quot;Not Recommended&quot; numvotes=&quot;24&quot; /&gt;&lt;/results&gt;</td><td></td><td>&lt;results numplayers=&quot;5+&quot;&gt;&lt;result value=&quot;Best&quot; numvotes=&quot;0&quot;/&gt;&lt;result value=&quot;Recommended&quot; numvotes=&quot;3&quot;/&gt;&lt;result value=&quot;Not Recommended&quot; numvotes=&quot;24&quot;/&gt;&lt;/results&gt;</td><td>&lt;poll name=&quot;suggested_numplayers&quot; title=&quot;User Suggested Number of Players&quot; totalvotes=&quot;61&quot;&gt;&lt;results numplayers=&quot;1&quot;&gt;&lt;result value=&quot;Best&quot; numvotes=&quot;0&quot; /&gt;&lt;result value=&quot;Recommended&quot; numvotes=&quot;7&quot; /&gt;&lt;result value=&quot;Not Recommended&quot; numvotes=&quot;29&quot; /&gt;&lt;/results&gt;&lt;results numplayers=&quot;2&quot;&gt;&lt;result value=&quot;Best&quot; numvotes=&quot;10&quot; /&gt;&lt;result value=&quot;Recommended&quot; numvotes=&quot;40&quot; /&gt;&lt;result value=&quot;Not Recommended&quot; numvotes=&quot;3&quot; /&gt;&lt;/results&gt;&lt;results numplayers=&quot;3&quot;&gt;&lt;result value=&quot;Best&quot; numvotes=&quot;44&quot; /&gt;&lt;result value=&quot;Recommended&quot; numvotes=&quot;11&quot; /&gt;&lt;result value=&quot;Not Recommended&quot; numvotes=&quot;0&quot; /&gt;&lt;/results&gt;&lt;results numplayers=&quot;4&quot;&gt;&lt;result value=&quot;Best&quot; numvotes=&quot;18&quot; /&gt;&lt;result value=&quot;Recommended&quot; numvotes=&quot;30&quot; /&gt;&lt;result value=&quot;Not Recommended&quot; numvotes=&quot;1&quot; /&gt;&lt;/results&gt;&lt;results numplayers=&quot;5&quot;&gt;&lt;result value=&quot;Best&quot; numvotes=&quot;5&quot; /&gt;&lt;result value=&quot;Recommended&quot; numvotes=&quot;25&quot; /&gt;&lt;result value=&quot;Not Recommended&quot; numvotes=&quot;13&quot; /&gt;&lt;/results&gt;&lt;results numplayers=&quot;5+&quot;&gt;&lt;result value=&quot;Best&quot; numvotes=&quot;0&quot; /&gt;&lt;result value=&quot;Recommended&quot; numvotes=&quot;3&quot; /&gt;&lt;result value=&quot;Not Recommended&quot; numvotes=&quot;24&quot; /&gt;&lt;/results&gt;&lt;/poll&gt;</td></tr>",
                            "</table>"
                        ]
                    }
                }
            ],
            "execution_count": 2
        },
        {
            "cell_type": "markdown",
            "source": [
                "Note how in this case the value method gives us nothing but we can cast the query result into text.\n",
                "\n",
                "Most other uses for the query method fall into similar categories as the [exists method](https://barneylawrence.com/2021/04/07/querying-xml-in-sql-server-part-4-filtering-with-the-exist-method/) these are things you can do in SQL but that would require you to drop down to a level in the structure below the one you want in your final output. Let’s look at a few examples.\n",
                "\n",
                "## How Do I Aggregate XML Values In SQL Server?\n",
                "\n",
                "We can use Xquery to sum values without the need to break them down at row level and group them up again. This can give us a result in the select statement or could be used in a WHERE clause. The format is simple and looks just like a SQL aggregate with a path inside.  \n",
                "Note the data types, even though maximum and minimum are only handling integers I get a type conversion error if I ask for an integer result."
            ],
            "metadata": {
                "azdata_cell_guid": "684a0327-6624-42a6-9657-55ee62a604b4"
            }
        },
        {
            "cell_type": "code",
            "source": [
                "SELECT\r\n",
                "R.ResultXML.value('./@numplayers','varchar(50)') AS NumPlayers,\r\n",
                "R.ResultXML.query('sum(./result/@numvotes)') AS SumVotesQuery,\r\n",
                "R.ResultXML.value('sum(./result/@numvotes)','int') AS SumVotesValue,\r\n",
                "R.ResultXML.value('max(./result/@numvotes)','float') AS MaxVotesValue,\r\n",
                "R.ResultXML.value('min(./result/@numvotes)','float') AS MinVotesValue,\r\n",
                "R.ResultXML.value('count(./result/@numvotes)','int') AS CountVotesValue,\r\n",
                "R.ResultXML.value('avg(./result/@numvotes)','numeric(10,2)') AS SumVotesValue,\r\n",
                "R.ResultXML.query('.') AS ResultsXML\r\n",
                "FROM #MyXML AS X\r\n",
                "CROSS APPLY X.MyXML.nodes('/items/item/poll/results') AS R(ResultXML)\r\n",
                "WHERE\r\n",
                "R.ResultXML.value('sum(./result/@numvotes)','int')  > 50;"
            ],
            "metadata": {
                "azdata_cell_guid": "72ef2d13-65ea-445e-968b-06855aee2bb1"
            },
            "outputs": [
                {
                    "output_type": "display_data",
                    "data": {
                        "text/html": "(2 rows affected)"
                    },
                    "metadata": {}
                },
                {
                    "output_type": "display_data",
                    "data": {
                        "text/html": "Total execution time: 00:00:00.059"
                    },
                    "metadata": {}
                },
                {
                    "output_type": "execute_result",
                    "metadata": {},
                    "execution_count": 3,
                    "data": {
                        "application/vnd.dataresource+json": {
                            "schema": {
                                "fields": [
                                    {
                                        "name": "NumPlayers"
                                    },
                                    {
                                        "name": "SumVotesQuery"
                                    },
                                    {
                                        "name": "SumVotesValue"
                                    },
                                    {
                                        "name": "MaxVotesValue"
                                    },
                                    {
                                        "name": "MinVotesValue"
                                    },
                                    {
                                        "name": "CountVotesValue"
                                    },
                                    {
                                        "name": "SumVotesValue"
                                    },
                                    {
                                        "name": "ResultsXML"
                                    }
                                ]
                            },
                            "data": [
                                {
                                    "0": "2",
                                    "1": "53",
                                    "2": "53",
                                    "3": "40",
                                    "4": "3",
                                    "5": "3",
                                    "6": "17.67",
                                    "7": "<results numplayers=\"2\"><result value=\"Best\" numvotes=\"10\" /><result value=\"Recommended\" numvotes=\"40\" /><result value=\"Not Recommended\" numvotes=\"3\" /></results>"
                                },
                                {
                                    "0": "3",
                                    "1": "55",
                                    "2": "55",
                                    "3": "44",
                                    "4": "0",
                                    "5": "3",
                                    "6": "18.33",
                                    "7": "<results numplayers=\"3\"><result value=\"Best\" numvotes=\"44\" /><result value=\"Recommended\" numvotes=\"11\" /><result value=\"Not Recommended\" numvotes=\"0\" /></results>"
                                }
                            ]
                        },
                        "text/html": [
                            "<table>",
                            "<tr><th>NumPlayers</th><th>SumVotesQuery</th><th>SumVotesValue</th><th>MaxVotesValue</th><th>MinVotesValue</th><th>CountVotesValue</th><th>SumVotesValue</th><th>ResultsXML</th></tr>",
                            "<tr><td>2</td><td>53</td><td>53</td><td>40</td><td>3</td><td>3</td><td>17.67</td><td>&lt;results numplayers=&quot;2&quot;&gt;&lt;result value=&quot;Best&quot; numvotes=&quot;10&quot; /&gt;&lt;result value=&quot;Recommended&quot; numvotes=&quot;40&quot; /&gt;&lt;result value=&quot;Not Recommended&quot; numvotes=&quot;3&quot; /&gt;&lt;/results&gt;</td></tr>",
                            "<tr><td>3</td><td>55</td><td>55</td><td>44</td><td>0</td><td>3</td><td>18.33</td><td>&lt;results numplayers=&quot;3&quot;&gt;&lt;result value=&quot;Best&quot; numvotes=&quot;44&quot; /&gt;&lt;result value=&quot;Recommended&quot; numvotes=&quot;11&quot; /&gt;&lt;result value=&quot;Not Recommended&quot; numvotes=&quot;0&quot; /&gt;&lt;/results&gt;</td></tr>",
                            "</table>"
                        ]
                    }
                }
            ],
            "execution_count": 3
        },
        {
            "cell_type": "markdown",
            "source": [
                "<span style=\"color: rgb(26, 26, 26); font-family: Merriweather, Georgia, serif; font-size: 16px; background-color: rgb(255, 255, 255);\">If we really want that integer then we need to explicitly convert the @numvotes attribute to an integer.</span>"
            ],
            "metadata": {
                "azdata_cell_guid": "2b4258d3-8508-47e5-9722-dc17bf660152"
            }
        },
        {
            "cell_type": "code",
            "source": [
                "SELECT\r\n",
                "--R.ResultXML.value('min(xs:integer(./result/@numvotes))','int') AS MinVotesValueBroken,\r\n",
                "R.ResultXML.value('min(for $v in ./result/@numvotes return xs:integer($v))','int') AS MinVotesValue,\r\n",
                "R.ResultXML.query('.') AS ResultsXML\r\n",
                "FROM #MyXML AS X\r\n",
                "CROSS APPLY X.MyXML.nodes('/items/item/poll/results') AS R(ResultXML);"
            ],
            "metadata": {
                "azdata_cell_guid": "60fbb762-991c-4bbb-b084-650d27257dd8"
            },
            "outputs": [
                {
                    "output_type": "display_data",
                    "data": {
                        "text/html": "(6 rows affected)"
                    },
                    "metadata": {}
                },
                {
                    "output_type": "display_data",
                    "data": {
                        "text/html": "Total execution time: 00:00:00.028"
                    },
                    "metadata": {}
                },
                {
                    "output_type": "execute_result",
                    "metadata": {},
                    "execution_count": 4,
                    "data": {
                        "application/vnd.dataresource+json": {
                            "schema": {
                                "fields": [
                                    {
                                        "name": "MinVotesValue"
                                    },
                                    {
                                        "name": "ResultsXML"
                                    }
                                ]
                            },
                            "data": [
                                {
                                    "0": "0",
                                    "1": "<results numplayers=\"1\"><result value=\"Best\" numvotes=\"0\" /><result value=\"Recommended\" numvotes=\"7\" /><result value=\"Not Recommended\" numvotes=\"29\" /></results>"
                                },
                                {
                                    "0": "3",
                                    "1": "<results numplayers=\"2\"><result value=\"Best\" numvotes=\"10\" /><result value=\"Recommended\" numvotes=\"40\" /><result value=\"Not Recommended\" numvotes=\"3\" /></results>"
                                },
                                {
                                    "0": "0",
                                    "1": "<results numplayers=\"3\"><result value=\"Best\" numvotes=\"44\" /><result value=\"Recommended\" numvotes=\"11\" /><result value=\"Not Recommended\" numvotes=\"0\" /></results>"
                                },
                                {
                                    "0": "1",
                                    "1": "<results numplayers=\"4\"><result value=\"Best\" numvotes=\"18\" /><result value=\"Recommended\" numvotes=\"30\" /><result value=\"Not Recommended\" numvotes=\"1\" /></results>"
                                },
                                {
                                    "0": "5",
                                    "1": "<results numplayers=\"5\"><result value=\"Best\" numvotes=\"5\" /><result value=\"Recommended\" numvotes=\"25\" /><result value=\"Not Recommended\" numvotes=\"13\" /></results>"
                                },
                                {
                                    "0": "0",
                                    "1": "<results numplayers=\"5+\"><result value=\"Best\" numvotes=\"0\" /><result value=\"Recommended\" numvotes=\"3\" /><result value=\"Not Recommended\" numvotes=\"24\" /></results>"
                                }
                            ]
                        },
                        "text/html": [
                            "<table>",
                            "<tr><th>MinVotesValue</th><th>ResultsXML</th></tr>",
                            "<tr><td>0</td><td>&lt;results numplayers=&quot;1&quot;&gt;&lt;result value=&quot;Best&quot; numvotes=&quot;0&quot; /&gt;&lt;result value=&quot;Recommended&quot; numvotes=&quot;7&quot; /&gt;&lt;result value=&quot;Not Recommended&quot; numvotes=&quot;29&quot; /&gt;&lt;/results&gt;</td></tr>",
                            "<tr><td>3</td><td>&lt;results numplayers=&quot;2&quot;&gt;&lt;result value=&quot;Best&quot; numvotes=&quot;10&quot; /&gt;&lt;result value=&quot;Recommended&quot; numvotes=&quot;40&quot; /&gt;&lt;result value=&quot;Not Recommended&quot; numvotes=&quot;3&quot; /&gt;&lt;/results&gt;</td></tr>",
                            "<tr><td>0</td><td>&lt;results numplayers=&quot;3&quot;&gt;&lt;result value=&quot;Best&quot; numvotes=&quot;44&quot; /&gt;&lt;result value=&quot;Recommended&quot; numvotes=&quot;11&quot; /&gt;&lt;result value=&quot;Not Recommended&quot; numvotes=&quot;0&quot; /&gt;&lt;/results&gt;</td></tr>",
                            "<tr><td>1</td><td>&lt;results numplayers=&quot;4&quot;&gt;&lt;result value=&quot;Best&quot; numvotes=&quot;18&quot; /&gt;&lt;result value=&quot;Recommended&quot; numvotes=&quot;30&quot; /&gt;&lt;result value=&quot;Not Recommended&quot; numvotes=&quot;1&quot; /&gt;&lt;/results&gt;</td></tr>",
                            "<tr><td>5</td><td>&lt;results numplayers=&quot;5&quot;&gt;&lt;result value=&quot;Best&quot; numvotes=&quot;5&quot; /&gt;&lt;result value=&quot;Recommended&quot; numvotes=&quot;25&quot; /&gt;&lt;result value=&quot;Not Recommended&quot; numvotes=&quot;13&quot; /&gt;&lt;/results&gt;</td></tr>",
                            "<tr><td>0</td><td>&lt;results numplayers=&quot;5+&quot;&gt;&lt;result value=&quot;Best&quot; numvotes=&quot;0&quot; /&gt;&lt;result value=&quot;Recommended&quot; numvotes=&quot;3&quot; /&gt;&lt;result value=&quot;Not Recommended&quot; numvotes=&quot;24&quot; /&gt;&lt;/results&gt;</td></tr>",
                            "</table>"
                        ]
                    }
                }
            ],
            "execution_count": 4
        },
        {
            "cell_type": "markdown",
            "source": [
                "That’s not simple, the commented out version looks like a viable approach but that’s not asking to convert the values into an integer it’s trying to convert all the elements as one.  \n",
                "Instead we need to iterate through each item converting it. It’s unlikely to be worth the effort in most cases but there’s a small risk of [floating point](https://barneylawrence.com/2021/03/09/ive-got-99-0991-problems-but-floating-point-precision-aint-one/) errors if you leave things to the defaults which use the double data type.  \n",
                "The above is a nice introduction to looping through data in XQuery which follows a fairly common pattern in programming languages:\n",
                "\n",
                "```\n",
                "for $MyOneThing in AllTheThings return DoSomethingOneAtATimeTo($MyOneThing)\n",
                "```\n",
                "\n",
                "This sets us up for the next example.\n",
                "\n",
                "## How Do I Concatenate XML Values Into a Single String?\n",
                "\n",
                "The ability to loop through sub nodes gives us a route to a concatenated string because sometimes (e.g. for report outputs) that’s all we need. Here’s an example concatenating all the alternative names for our example game into one."
            ],
            "metadata": {
                "azdata_cell_guid": "e8ee5d9b-fdbe-499a-a7be-83e84a613a4a"
            }
        },
        {
            "cell_type": "code",
            "source": [
                "SELECT\r\n",
                "X.MyXML.query(\r\n",
                "    'for $name in \r\n",
                "        /items/item/name \r\n",
                "    return \r\n",
                "        concat($name/@type,'': '',$name/@value, '' aka '')'\r\n",
                "        ).value('.','varchar(max)') AS AllTheNames\r\n",
                "FROM #MyXML AS X;"
            ],
            "metadata": {
                "azdata_cell_guid": "811a01e9-f889-485f-a8fc-ea56095a055e"
            },
            "outputs": [
                {
                    "output_type": "display_data",
                    "data": {
                        "text/html": "(1 row affected)"
                    },
                    "metadata": {}
                },
                {
                    "output_type": "display_data",
                    "data": {
                        "text/html": "Total execution time: 00:00:00.036"
                    },
                    "metadata": {}
                },
                {
                    "output_type": "execute_result",
                    "metadata": {},
                    "execution_count": 5,
                    "data": {
                        "application/vnd.dataresource+json": {
                            "schema": {
                                "fields": [
                                    {
                                        "name": "AllTheNames"
                                    }
                                ]
                            },
                            "data": [
                                {
                                    "0": "primary: Rhino Hero aka  alternate: Rino Ercolino aka  alternate: Super Rhino! aka  alternate: Super Rino! aka "
                                }
                            ]
                        },
                        "text/html": [
                            "<table>",
                            "<tr><th>AllTheNames</th></tr>",
                            "<tr><td>primary: Rhino Hero aka  alternate: Rino Ercolino aka  alternate: Super Rhino! aka  alternate: Super Rino! aka </td></tr>",
                            "</table>"
                        ]
                    }
                }
            ],
            "execution_count": 5
        },
        {
            "cell_type": "markdown",
            "source": [
                "<span style=\"color: rgb(26, 26, 26); font-family: Merriweather, Georgia, serif; font-size: 16px; background-color: rgb(255, 255, 255);\">The value method doesn’t work directly here but we can stack methods, query gives us the result as XML type and then we apply the value method to get us to text. We could also do this in SQL and might want to as we probably want to remove that stray ‘aka’ at the end. This next example shows STUFF () being used to solve the extra aka issue and also the text conversion running via CAST().</span>"
            ],
            "metadata": {
                "azdata_cell_guid": "e6b1d6f4-170c-4120-8e77-ed93a9c9458a"
            }
        },
        {
            "cell_type": "code",
            "source": [
                "SELECT\r\n",
                "STUFF(\r\n",
                "    CAST(\r\n",
                "        X.MyXML.query(\r\n",
                "        'for $name in \r\n",
                "            /items/item/name \r\n",
                "        return \r\n",
                "            concat( '' aka '', $name/@type,'': '',$name/@value)'\r\n",
                "            ) \r\n",
                "    AS varchar(max))\r\n",
                ",1,5,'') AS     \r\n",
                "        AllTheNames\r\n",
                "FROM #MyXML AS X;"
            ],
            "metadata": {
                "azdata_cell_guid": "586dc031-ffdd-4d86-8cc8-9c2390ad0f18"
            },
            "outputs": [
                {
                    "output_type": "display_data",
                    "data": {
                        "text/html": "(1 row affected)"
                    },
                    "metadata": {}
                },
                {
                    "output_type": "display_data",
                    "data": {
                        "text/html": "Total execution time: 00:00:00.018"
                    },
                    "metadata": {}
                },
                {
                    "output_type": "execute_result",
                    "metadata": {},
                    "execution_count": 6,
                    "data": {
                        "application/vnd.dataresource+json": {
                            "schema": {
                                "fields": [
                                    {
                                        "name": "AllTheNames"
                                    }
                                ]
                            },
                            "data": [
                                {
                                    "0": "primary: Rhino Hero  aka alternate: Rino Ercolino  aka alternate: Super Rhino!  aka alternate: Super Rino!"
                                }
                            ]
                        },
                        "text/html": [
                            "<table>",
                            "<tr><th>AllTheNames</th></tr>",
                            "<tr><td>primary: Rhino Hero  aka alternate: Rino Ercolino  aka alternate: Super Rhino!  aka alternate: Super Rino!</td></tr>",
                            "</table>"
                        ]
                    }
                }
            ],
            "execution_count": 6
        },
        {
            "cell_type": "markdown",
            "source": [
                "## How to Do Almost Anything Else In SQL Server With XQuery?\n",
                "\n",
                "The catch all solution applies here… Google it (other search engines are available). You’ll probably find someone has asked how to do the same thing on Stack Overflow (or tech forum of choice) and dropping that solution into the query method has a good chance of solving your problem or getting you most of the way there.  \n",
                "Other good resources are the aforementioned examples in Microsoft’s XQuery documentation and the [W3 School’s tutorials](https://www.w3schools.com/xml/xquery_intro.asp) both of which I’ve bounced in and out of while writing these blogs and the worktime activities that inspired them.\n",
                "\n",
                "Observant readers may have noticed there was a somewhat ominous footnote promised earlier on, here it is.\n",
                "\n",
                "## \\*Why Won’t My Entirely Valid XQuery Work in SQL Server?\n",
                "\n",
                "Long term users of SQL Server may be wholly unsurprised to discover that XQuery falls into the rather large category of “cool sounding features in SQL Server that haven’t been developed further since they were sufficiently functional to tick all the right boxes on a list of features but no more” (see elsewhere for temporal tables, graph queries and many others). To quote Microsoft on the subject:\n",
                "\n",
                "> This XQuery implementation is aligned with the July 2004 Working Draft of XQuery\n",
                "> \n",
                "> Some Person At Microsoft\n",
                "\n",
                "That’s a draft of version 1.0 and we’re now up to version 3.1, don’t be surprised if features are missing.\n",
                "\n",
                "One set of features I’ve missed personally are the more advanced abilities to move around nodes in the XML specifying preceding or following siblings in a group to work out relative or absolute positions. Expect to see some alternative solutions to that in a future post.\n",
                "\n",
                "Querying XML In SQL Server Series\n",
                "\n",
                "- [Part 1 – Introduction](https://barneylawrence.com/2021/03/15/querying-xml-in-sql-server-part-1-introduction/)\n",
                "- [Part 2 – Simple Paths and Attributes With the Value Method](https://barneylawrence.com/2021/03/23/querying-xml-in-sql-server-part-2-simple-paths-and-attributes-with-the-value-method/)\n",
                "- [Part 3 – Handling Repeating Regions With the Nodes Method](https://barneylawrence.com/2021/03/30/querying-xml-in-sql-server-part-3-handling-repeating-regions-with-the-nodes-method/)\n",
                "- [Part 4 – Filtering With The Exist Method](https://barneylawrence.com/2021/04/07/querying-xml-in-sql-server-part-4-filtering-with-the-exist-method/)\n",
                "- [Part 5 – Introduction to the Query Method and XQuery](https://barneylawrence.com/2021/04/21/querying-xml-in-sql-server-part-5-an-introduction-to-the-query-method-and-xquery/)\n",
                "\n",
                "[Posts in SQL Notebook form](https://github.com/BarneyLawrence/XML-Queries-In-SQL-Server/tree/main/Notebooks)"
            ],
            "metadata": {
                "azdata_cell_guid": "2e78ca80-aa1e-4292-8c83-e1ecbd2c1ab0"
            }
        }
    ]
}