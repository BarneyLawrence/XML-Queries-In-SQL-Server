{
    "metadata": {
        "kernelspec": {
            "name": "SQL",
            "display_name": "SQL",
            "language": "sql"
        },
        "language_info": {
            "name": "sql",
            "version": ""
        }
    },
    "nbformat_minor": 2,
    "nbformat": 4,
    "cells": [
        {
            "cell_type": "markdown",
            "source": [
                "# Querying XML In SQL Server – Part 2 – Simple Paths and Attributes With the Value Method\n",
                "\n",
                "### _In part 2 of our series we’ll start to learn how to pull values out of XML with an SQL query and how we can use the XPath language to navigate a tree based on position or values within the document._\n",
                "\n",
                "[Last week](http://barneylawrence.com/2021/03/15/querying-xml-in-sql-server-part-1-introduction/) we met some XML and got a feel for its structure, this week we’ll run some simple queries using XPath the XML Path Language. Anyone who has ever used a file system should feel at home here because XPath simply allows you to navigate the tree structure of a piece of XML in the same way you would the files and folders on a disk.\n",
                "\n",
                "First off I’m going to create a temporary table and insert the XML into it. We could use a simple variable but a table makes it a little easier to run examples a piece at a time."
            ],
            "metadata": {
                "azdata_cell_guid": "7a88fc86-4f91-4834-b41d-c0e2ab73a35b"
            }
        },
        {
            "cell_type": "code",
            "source": [
                "CREATE TABLE #MyXML (MyXML XML NOT NULL);\r\n",
                " \r\n",
                "INSERT INTO #MyXML(MyXML)\r\n",
                "VALUES\r\n",
                "(\r\n",
                "'<?xml version=\"1.0\" encoding=\"UTF-8\"?>\r\n",
                "<items termsofuse=\"https://boardgamegeek.com/xmlapi/termsofuse\">\r\n",
                "   <item type=\"boardgame\" id=\"91514\">\r\n",
                "      <thumbnail>https://cf.geekdo-images.com/R_VAhiLCzl5RXKwSluvEbg__thumb/img/zpzD1TJLfuNEjuTjpPbN1y1mpss=/fit-in/200x150/filters:strip_icc()/pic3271388.jpg</thumbnail>\r\n",
                "      <image>https://cf.geekdo-images.com/R_VAhiLCzl5RXKwSluvEbg__original/img/hVn3HtD2_5vKNjhEBkL1qFB4FaU=/0x0/filters:format(jpeg)/pic3271388.jpg</image>\r\n",
                "      <name type=\"primary\" sortindex=\"1\" value=\"Rhino Hero\" />\r\n",
                "      <name type=\"alternate\" sortindex=\"1\" value=\"Rino Ercolino\" />\r\n",
                "      <name type=\"alternate\" sortindex=\"1\" value=\"Super Rhino!\" />\r\n",
                "      <name type=\"alternate\" sortindex=\"1\" value=\"Super Rino!\" />\r\n",
                "      <description>\r\n",
                "        Super Rhino! presents players with an incredibly heroic &amp;ndash; and regrettably heavy &amp;ndash; rhinoceros who is eager to climb a tall building and leap other tall buildings in a single bound. \r\n",
                "      </description>\r\n",
                "      <yearpublished value=\"2011\" />\r\n",
                "      <minplayers value=\"2\" />\r\n",
                "      <maxplayers value=\"5\" />\r\n",
                "      <poll name=\"suggested_numplayers\" title=\"User Suggested Number of Players\" totalvotes=\"61\">\r\n",
                "         <results numplayers=\"1\">\r\n",
                "            <result value=\"Best\" numvotes=\"0\" />\r\n",
                "            <result value=\"Recommended\" numvotes=\"7\" />\r\n",
                "            <result value=\"Not Recommended\" numvotes=\"29\" />\r\n",
                "         </results>\r\n",
                "         <results numplayers=\"2\">\r\n",
                "            <result value=\"Best\" numvotes=\"10\" />\r\n",
                "            <result value=\"Recommended\" numvotes=\"40\" />\r\n",
                "            <result value=\"Not Recommended\" numvotes=\"3\" />\r\n",
                "         </results>\r\n",
                "         <results numplayers=\"3\">\r\n",
                "            <result value=\"Best\" numvotes=\"44\" />\r\n",
                "            <result value=\"Recommended\" numvotes=\"11\" />\r\n",
                "            <result value=\"Not Recommended\" numvotes=\"0\" />\r\n",
                "         </results>\r\n",
                "         <results numplayers=\"4\">\r\n",
                "            <result value=\"Best\" numvotes=\"18\" />\r\n",
                "            <result value=\"Recommended\" numvotes=\"30\" />\r\n",
                "            <result value=\"Not Recommended\" numvotes=\"1\" />\r\n",
                "         </results>\r\n",
                "         <results numplayers=\"5\">\r\n",
                "            <result value=\"Best\" numvotes=\"5\" />\r\n",
                "            <result value=\"Recommended\" numvotes=\"25\" />\r\n",
                "            <result value=\"Not Recommended\" numvotes=\"13\" />\r\n",
                "         </results>\r\n",
                "         <results numplayers=\"5+\">\r\n",
                "            <result value=\"Best\" numvotes=\"0\" />\r\n",
                "            <result value=\"Recommended\" numvotes=\"3\" />\r\n",
                "            <result value=\"Not Recommended\" numvotes=\"24\" />\r\n",
                "         </results>\r\n",
                "      </poll>\r\n",
                "      <playingtime value=\"15\" />\r\n",
                "      <minplaytime value=\"5\" />\r\n",
                "      <maxplaytime value=\"15\" />\r\n",
                "      <minage value=\"5\" />\r\n",
                "   </item>\r\n",
                "</items>'\r\n",
                ");\r\n",
                " \r\n",
                "SELECT * FROM #MyXML;"
            ],
            "metadata": {
                "azdata_cell_guid": "e6a0ffc5-d416-4417-86cb-7584eb838dcc",
                "tags": [
                    "hide_input"
                ]
            },
            "outputs": [
                {
                    "output_type": "display_data",
                    "data": {
                        "text/html": "(1 row affected)"
                    },
                    "metadata": {}
                },
                {
                    "output_type": "display_data",
                    "data": {
                        "text/html": "(1 row affected)"
                    },
                    "metadata": {}
                },
                {
                    "output_type": "display_data",
                    "data": {
                        "text/html": "Total execution time: 00:00:00.012"
                    },
                    "metadata": {}
                },
                {
                    "output_type": "execute_result",
                    "metadata": {},
                    "execution_count": 2,
                    "data": {
                        "application/vnd.dataresource+json": {
                            "schema": {
                                "fields": [
                                    {
                                        "name": "MyXML"
                                    }
                                ]
                            },
                            "data": [
                                {
                                    "0": "<items termsofuse=\"https://boardgamegeek.com/xmlapi/termsofuse\"><item type=\"boardgame\" id=\"91514\"><thumbnail>https://cf.geekdo-images.com/R_VAhiLCzl5RXKwSluvEbg__thumb/img/zpzD1TJLfuNEjuTjpPbN1y1mpss=/fit-in/200x150/filters:strip_icc()/pic3271388.jpg</thumbnail><image>https://cf.geekdo-images.com/R_VAhiLCzl5RXKwSluvEbg__original/img/hVn3HtD2_5vKNjhEBkL1qFB4FaU=/0x0/filters:format(jpeg)/pic3271388.jpg</image><name type=\"primary\" sortindex=\"1\" value=\"Rhino Hero\" /><name type=\"alternate\" sortindex=\"1\" value=\"Rino Ercolino\" /><name type=\"alternate\" sortindex=\"1\" value=\"Super Rhino!\" /><name type=\"alternate\" sortindex=\"1\" value=\"Super Rino!\" /><description>\r\n        Super Rhino! presents players with an incredibly heroic &amp;ndash; and regrettably heavy &amp;ndash; rhinoceros who is eager to climb a tall building and leap other tall buildings in a single bound. \r\n      </description><yearpublished value=\"2011\" /><minplayers value=\"2\" /><maxplayers value=\"5\" /><poll name=\"suggested_numplayers\" title=\"User Suggested Number of Players\" totalvotes=\"61\"><results numplayers=\"1\"><result value=\"Best\" numvotes=\"0\" /><result value=\"Recommended\" numvotes=\"7\" /><result value=\"Not Recommended\" numvotes=\"29\" /></results><results numplayers=\"2\"><result value=\"Best\" numvotes=\"10\" /><result value=\"Recommended\" numvotes=\"40\" /><result value=\"Not Recommended\" numvotes=\"3\" /></results><results numplayers=\"3\"><result value=\"Best\" numvotes=\"44\" /><result value=\"Recommended\" numvotes=\"11\" /><result value=\"Not Recommended\" numvotes=\"0\" /></results><results numplayers=\"4\"><result value=\"Best\" numvotes=\"18\" /><result value=\"Recommended\" numvotes=\"30\" /><result value=\"Not Recommended\" numvotes=\"1\" /></results><results numplayers=\"5\"><result value=\"Best\" numvotes=\"5\" /><result value=\"Recommended\" numvotes=\"25\" /><result value=\"Not Recommended\" numvotes=\"13\" /></results><results numplayers=\"5+\"><result value=\"Best\" numvotes=\"0\" /><result value=\"Recommended\" numvotes=\"3\" /><result value=\"Not Recommended\" numvotes=\"24\" /></results></poll><playingtime value=\"15\" /><minplaytime value=\"5\" /><maxplaytime value=\"15\" /><minage value=\"5\" /></item></items>"
                                }
                            ]
                        },
                        "text/html": [
                            "<table>",
                            "<tr><th>MyXML</th></tr>",
                            "<tr><td>&lt;items termsofuse=&quot;https://boardgamegeek.com/xmlapi/termsofuse&quot;&gt;&lt;item type=&quot;boardgame&quot; id=&quot;91514&quot;&gt;&lt;thumbnail&gt;https://cf.geekdo-images.com/R_VAhiLCzl5RXKwSluvEbg__thumb/img/zpzD1TJLfuNEjuTjpPbN1y1mpss=/fit-in/200x150/filters:strip_icc()/pic3271388.jpg&lt;/thumbnail&gt;&lt;image&gt;https://cf.geekdo-images.com/R_VAhiLCzl5RXKwSluvEbg__original/img/hVn3HtD2_5vKNjhEBkL1qFB4FaU=/0x0/filters:format(jpeg)/pic3271388.jpg&lt;/image&gt;&lt;name type=&quot;primary&quot; sortindex=&quot;1&quot; value=&quot;Rhino Hero&quot; /&gt;&lt;name type=&quot;alternate&quot; sortindex=&quot;1&quot; value=&quot;Rino Ercolino&quot; /&gt;&lt;name type=&quot;alternate&quot; sortindex=&quot;1&quot; value=&quot;Super Rhino!&quot; /&gt;&lt;name type=&quot;alternate&quot; sortindex=&quot;1&quot; value=&quot;Super Rino!&quot; /&gt;&lt;description&gt;\r\n        Super Rhino! presents players with an incredibly heroic &amp;amp;ndash; and regrettably heavy &amp;amp;ndash; rhinoceros who is eager to climb a tall building and leap other tall buildings in a single bound. \r\n      &lt;/description&gt;&lt;yearpublished value=&quot;2011&quot; /&gt;&lt;minplayers value=&quot;2&quot; /&gt;&lt;maxplayers value=&quot;5&quot; /&gt;&lt;poll name=&quot;suggested_numplayers&quot; title=&quot;User Suggested Number of Players&quot; totalvotes=&quot;61&quot;&gt;&lt;results numplayers=&quot;1&quot;&gt;&lt;result value=&quot;Best&quot; numvotes=&quot;0&quot; /&gt;&lt;result value=&quot;Recommended&quot; numvotes=&quot;7&quot; /&gt;&lt;result value=&quot;Not Recommended&quot; numvotes=&quot;29&quot; /&gt;&lt;/results&gt;&lt;results numplayers=&quot;2&quot;&gt;&lt;result value=&quot;Best&quot; numvotes=&quot;10&quot; /&gt;&lt;result value=&quot;Recommended&quot; numvotes=&quot;40&quot; /&gt;&lt;result value=&quot;Not Recommended&quot; numvotes=&quot;3&quot; /&gt;&lt;/results&gt;&lt;results numplayers=&quot;3&quot;&gt;&lt;result value=&quot;Best&quot; numvotes=&quot;44&quot; /&gt;&lt;result value=&quot;Recommended&quot; numvotes=&quot;11&quot; /&gt;&lt;result value=&quot;Not Recommended&quot; numvotes=&quot;0&quot; /&gt;&lt;/results&gt;&lt;results numplayers=&quot;4&quot;&gt;&lt;result value=&quot;Best&quot; numvotes=&quot;18&quot; /&gt;&lt;result value=&quot;Recommended&quot; numvotes=&quot;30&quot; /&gt;&lt;result value=&quot;Not Recommended&quot; numvotes=&quot;1&quot; /&gt;&lt;/results&gt;&lt;results numplayers=&quot;5&quot;&gt;&lt;result value=&quot;Best&quot; numvotes=&quot;5&quot; /&gt;&lt;result value=&quot;Recommended&quot; numvotes=&quot;25&quot; /&gt;&lt;result value=&quot;Not Recommended&quot; numvotes=&quot;13&quot; /&gt;&lt;/results&gt;&lt;results numplayers=&quot;5+&quot;&gt;&lt;result value=&quot;Best&quot; numvotes=&quot;0&quot; /&gt;&lt;result value=&quot;Recommended&quot; numvotes=&quot;3&quot; /&gt;&lt;result value=&quot;Not Recommended&quot; numvotes=&quot;24&quot; /&gt;&lt;/results&gt;&lt;/poll&gt;&lt;playingtime value=&quot;15&quot; /&gt;&lt;minplaytime value=&quot;5&quot; /&gt;&lt;maxplaytime value=&quot;15&quot; /&gt;&lt;minage value=&quot;5&quot; /&gt;&lt;/item&gt;&lt;/items&gt;</td></tr>",
                            "</table>"
                        ]
                    }
                }
            ],
            "execution_count": 2
        },
        {
            "cell_type": "markdown",
            "source": [
                "Run the above and we have our table. Querying the table gives us our single row, in SSMS you can even click on the result and have it pop out in a new window in its full glory. Out in the real world you may well have a table with hundreds of rows each with a slightly different piece of XML, all of the below continues to apply. Why not try yourself by adding in the follow up game [Rhino Hero Super Battle](https://api.geekdo.com/xmlapi2/thing?id=218333).\n",
                "\n",
                "## How Do I Query XML Attributes and Elements in SQL Server?\n",
                "\n",
                "We can start to pull the XML apart or ‘shred’ it as it’s commonly described using the value method and XPath. Here is a query with some examples."
            ],
            "metadata": {
                "azdata_cell_guid": "dd526486-ce92-4181-a590-5cf0b95a7166"
            }
        },
        {
            "cell_type": "code",
            "source": [
                "SELECT\r\n",
                "--I can get the value inside an element\r\n",
                "X.MyXML.value('(/items/item/description)[1]','varchar(500)') AS GameDescription,\r\n",
                "--I can get an attribute on a tag\r\n",
                "X.MyXML.value('(/items/item/yearpublished/@value)[1]','int') AS YearPublished,\r\n",
                "--I can go straight to the first instance of an element\r\n",
                "X.MyXML.value('(/items/item/poll/results/result/@numvotes)[1]','int') AS Poll1,\r\n",
                "--Or I can pick a path\r\n",
                "X.MyXML.value('(/items/item/poll/results[1]/result[2]/@numvotes)[1]','int') AS Poll2,\r\n",
                "--three different routes to the same value\r\n",
                "X.MyXML.value('(/items/item/poll/results[2]/result[3]/@numvotes)[1]','int') AS Poll3a,\r\n",
                "X.MyXML.value('(/items/item/poll/results/result/@numvotes)[6]','int') AS Poll3b,\r\n",
                "X.MyXML.value('(//@numvotes)[6]','int') AS Poll3c\r\n",
                "FROM #MyXML AS X;"
            ],
            "metadata": {
                "azdata_cell_guid": "2c79f406-5aad-4c9b-a3f1-901d39f42712"
            },
            "outputs": [
                {
                    "output_type": "display_data",
                    "data": {
                        "text/html": "(1 row affected)"
                    },
                    "metadata": {}
                },
                {
                    "output_type": "display_data",
                    "data": {
                        "text/html": "Total execution time: 00:00:00.032"
                    },
                    "metadata": {}
                },
                {
                    "output_type": "execute_result",
                    "execution_count": 2,
                    "data": {
                        "application/vnd.dataresource+json": {
                            "schema": {
                                "fields": [
                                    {
                                        "name": "GameDescription"
                                    },
                                    {
                                        "name": "YearPublished"
                                    },
                                    {
                                        "name": "Poll1"
                                    },
                                    {
                                        "name": "Poll2"
                                    },
                                    {
                                        "name": "Poll3a"
                                    },
                                    {
                                        "name": "Poll3b"
                                    },
                                    {
                                        "name": "Poll3c"
                                    }
                                ]
                            },
                            "data": [
                                {
                                    "0": "\n        Super Rhino! presents players with an incredibly heroic &ndash; and regrettably heavy &ndash; rhinoceros who is eager to climb a tall building and leap other tall buildings in a single bound. \n      ",
                                    "1": "2011",
                                    "2": "0",
                                    "3": "7",
                                    "4": "3",
                                    "5": "3",
                                    "6": "3"
                                }
                            ]
                        },
                        "text/html": "<table><tr><th>GameDescription</th><th>YearPublished</th><th>Poll1</th><th>Poll2</th><th>Poll3a</th><th>Poll3b</th><th>Poll3c</th></tr><tr><td>\n        Super Rhino! presents players with an incredibly heroic &amp;ndash; and regrettably heavy &amp;ndash; rhinoceros who is eager to climb a tall building and leap other tall buildings in a single bound. \n      </td><td>2011</td><td>0</td><td>7</td><td>3</td><td>3</td><td>3</td></tr></table>"
                    },
                    "metadata": {}
                }
            ],
            "execution_count": 2
        },
        {
            "cell_type": "markdown",
            "source": [
                "We can see a few variants above depending on whether we’re obtaining an element or an attribute. We also need to specify the data type to convert to, it’s your call as to if you feel confident enough in your inputs to go straight to the more fragile data types or if you want to grab everything as text and then convert when you have the luxury of something like TRY\\_CAST to clear up issues. If you’re handling dates do yourself a favour and use datetime2, sooner or later something will throw a 0001-01-01 style date your way and datetime won’t be happy.\n",
                "\n",
                "The other key feature is the numbers in square brackets. Because elements can repeat we need to know which repetition to pick. Even if there’s only one we have to drop in a \\[1\\] because we can’t be certain there’s only one occurrence (the blessing and curse of XML being that it’s so much less rigid than a set of tables in a database).  \n",
                "When we specify that path we can either be very specific or more general. See the Poll3 columns.\n",
                "\n",
                "- Poll3a gives us a precise path down to our value\n",
                "- Poll3b gets us down to the right section of the XML and then grabs the 6th\n",
                "- Poll3c goes a step further and just picks the 6th occurrence of the attribute. That gives us the same result in this case but if we hade the same attribute inside different elements all of them would be considered.\n",
                "\n",
                "We’re not just limited to specifying numerical positions, the next query gives some more advanced approaches. We have an example of picking the last possible element, how to pick based on attributes of parent elements and how to pick a parent based on values in the child elements."
            ],
            "metadata": {
                "azdata_cell_guid": "473eafb3-36c3-4aef-ab17-1e031226780c"
            }
        },
        {
            "cell_type": "code",
            "source": [
                "SELECT\r\n",
                "--Find the last value\r\n",
                "X.MyXML.value('(//@numvotes)[last()]','int') AS LastPoll,\r\n",
                "--Search based on parent attributes\r\n",
                "X.MyXML.value('(/items/item/poll/results[@numplayers = 2]/result[@value = \"Not Recommended\"]/@numvotes)[1]','int')  AS SearchPoll,\r\n",
                "--search based on child attributes\r\n",
                "X.MyXML.value('(/items/item/poll/results[result/@numvotes = 24]/@numplayers)[1]','varchar(10)')  AS ChildPollPoll\r\n",
                "FROM #MyXML AS X;"
            ],
            "metadata": {
                "azdata_cell_guid": "8a625381-b475-42e1-9bfe-329785307684"
            },
            "outputs": [
                {
                    "output_type": "display_data",
                    "data": {
                        "text/html": "(1 row affected)"
                    },
                    "metadata": {}
                },
                {
                    "output_type": "display_data",
                    "data": {
                        "text/html": "Total execution time: 00:00:00.035"
                    },
                    "metadata": {}
                },
                {
                    "output_type": "execute_result",
                    "execution_count": 3,
                    "data": {
                        "application/vnd.dataresource+json": {
                            "schema": {
                                "fields": [
                                    {
                                        "name": "LastPoll"
                                    },
                                    {
                                        "name": "SearchPoll"
                                    },
                                    {
                                        "name": "ChildPollPoll"
                                    }
                                ]
                            },
                            "data": [
                                {
                                    "0": "24",
                                    "1": "3",
                                    "2": "5+"
                                }
                            ]
                        },
                        "text/html": "<table><tr><th>LastPoll</th><th>SearchPoll</th><th>ChildPollPoll</th></tr><tr><td>24</td><td>3</td><td>5+</td></tr></table>"
                    },
                    "metadata": {}
                }
            ],
            "execution_count": 3
        },
        {
            "cell_type": "markdown",
            "source": [
                "We may not want to be so static in our choices and fortunately we have options for that too.\n",
                "\n",
                "## How Can I Use an SQL Server Variable to Obtain an XML Attribute?\n",
                "\n",
                "We can use sql:variable to take SQL variables and use them inside our path."
            ],
            "metadata": {
                "azdata_cell_guid": "53426aea-fdaa-4c09-af82-6e29e0e97ab9"
            }
        },
        {
            "cell_type": "code",
            "source": [
                "DECLARE @MyNumPlayers int = 2, @MyValue varchar(50) = 'Not Recommended';\r\n",
                " \r\n",
                "SELECT\r\n",
                "X.MyXML.value(\r\n",
                "    '(/items/item/poll/\r\n",
                "        results[@numplayers = sql:variable(\"@MyNumPlayers\")]/\r\n",
                "        result[@value = sql:variable(\"@MyValue\")]/@numvotes)[1]'\r\n",
                "    ,'int')  AS SearchPoll\r\n",
                "FROM #MyXML AS X;"
            ],
            "metadata": {
                "azdata_cell_guid": "c32743e9-f3f3-485b-b6b3-c14ffd2efa61"
            },
            "outputs": [
                {
                    "output_type": "display_data",
                    "data": {
                        "text/html": "(1 row affected)"
                    },
                    "metadata": {}
                },
                {
                    "output_type": "display_data",
                    "data": {
                        "text/html": "Total execution time: 00:00:00.036"
                    },
                    "metadata": {}
                },
                {
                    "output_type": "execute_result",
                    "metadata": {},
                    "execution_count": 3,
                    "data": {
                        "application/vnd.dataresource+json": {
                            "schema": {
                                "fields": [
                                    {
                                        "name": "SearchPoll"
                                    }
                                ]
                            },
                            "data": [
                                {
                                    "0": "3"
                                }
                            ]
                        },
                        "text/html": [
                            "<table>",
                            "<tr><th>SearchPoll</th></tr>",
                            "<tr><td>3</td></tr>",
                            "</table>"
                        ]
                    }
                }
            ],
            "execution_count": 3
        },
        {
            "cell_type": "markdown",
            "source": [
                "## How Can I Use an SQL Server Column to Obtain an XML Attribute?\n",
                "\n",
                "We can a use sql:column to push values from a table and into the path of the values method. This time we query the XML six times, getting a different result each time."
            ],
            "metadata": {
                "azdata_cell_guid": "59d3ed96-438d-42d4-b9bd-23e6677ae19b"
            }
        },
        {
            "cell_type": "code",
            "source": [
                "With MyNumbers AS\r\n",
                "(\r\n",
                "SELECT N\r\n",
                "FROM (VALUES(1),(2),(3),(4),(5),(6),(7)) AS N(N)\r\n",
                ")\r\n",
                "SELECT\r\n",
                "MyNumbers.N,\r\n",
                "X.MyXML.value(\r\n",
                "    '(/items/item/poll/\r\n",
                "    results[sql:column(\"MyNumbers.N\")]/\r\n",
                "    result[@value = \"Best\"]/\r\n",
                "    @numvotes)[1]'\r\n",
                "    ,'int'\r\n",
                "        )  AS BestPollVotes\r\n",
                "FROM  #MyXML AS X\r\n",
                "CROSS JOIN MyNumbers\r\n",
                "ORDER BY N;"
            ],
            "metadata": {
                "azdata_cell_guid": "4eb02514-6f47-4947-80e9-2fe9700ad18c"
            },
            "outputs": [
                {
                    "output_type": "display_data",
                    "data": {
                        "text/html": "(7 rows affected)"
                    },
                    "metadata": {}
                },
                {
                    "output_type": "display_data",
                    "data": {
                        "text/html": "Total execution time: 00:00:00.032"
                    },
                    "metadata": {}
                },
                {
                    "output_type": "execute_result",
                    "execution_count": 4,
                    "data": {
                        "application/vnd.dataresource+json": {
                            "schema": {
                                "fields": [
                                    {
                                        "name": "N"
                                    },
                                    {
                                        "name": "BestPollVotes"
                                    }
                                ]
                            },
                            "data": [
                                {
                                    "0": "1",
                                    "1": "0"
                                },
                                {
                                    "0": "2",
                                    "1": "10"
                                },
                                {
                                    "0": "3",
                                    "1": "44"
                                },
                                {
                                    "0": "4",
                                    "1": "18"
                                },
                                {
                                    "0": "5",
                                    "1": "5"
                                },
                                {
                                    "0": "6",
                                    "1": "0"
                                },
                                {
                                    "0": "7",
                                    "1": "NULL"
                                }
                            ]
                        },
                        "text/html": "<table><tr><th>N</th><th>BestPollVotes</th></tr><tr><td>1</td><td>0</td></tr><tr><td>2</td><td>10</td></tr><tr><td>3</td><td>44</td></tr><tr><td>4</td><td>18</td></tr><tr><td>5</td><td>5</td></tr><tr><td>6</td><td>0</td></tr><tr><td>7</td><td>NULL</td></tr></table>"
                    },
                    "metadata": {}
                }
            ],
            "execution_count": 4
        },
        {
            "cell_type": "markdown",
            "source": [
                "The row for N=7 gives a NULL because there is no 7th Element, SQL Server doesn’t know this though and will take a look for you anyway.\n",
                "\n",
                "Don’t go wild with the above. If you want to split repeating XML elements into rows of a table there’s a better way. Tune in next week when we’ll cover the nodes method.\n",
                "\n",
                "Querying XML In SQL Server Series\n",
                "\n",
                "- [Part 1 – Introduction](https://barneylawrence.com/2021/03/15/querying-xml-in-sql-server-part-1-introduction/)\n",
                "- [Part 2 – Simple Paths and Attributes With the Value Method](https://barneylawrence.com/2021/03/23/querying-xml-in-sql-server-part-2-simple-paths-and-attributes-with-the-value-method/)\n",
                "- [Part 3 – Handling Repeating Regions With the Nodes Method](https://barneylawrence.com/2021/03/30/querying-xml-in-sql-server-part-3-handling-repeating-regions-with-the-nodes-method/)\n",
                "- [Part 4 – Filtering With The Exist Method](https://barneylawrence.com/2021/04/07/querying-xml-in-sql-server-part-4-filtering-with-the-exist-method/)"
            ],
            "metadata": {
                "azdata_cell_guid": "af949bae-f4fe-43a2-a46c-edbf6254ae4f"
            }
        }
    ]
}