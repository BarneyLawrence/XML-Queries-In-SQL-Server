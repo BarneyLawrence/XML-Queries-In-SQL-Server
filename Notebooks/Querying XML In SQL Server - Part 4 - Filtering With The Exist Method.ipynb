{
    "metadata": {
        "kernelspec": {
            "name": "SQL",
            "display_name": "SQL",
            "language": "sql"
        },
        "language_info": {
            "name": "sql",
            "version": ""
        }
    },
    "nbformat_minor": 2,
    "nbformat": 4,
    "cells": [
        {
            "cell_type": "markdown",
            "source": [
                "# Querying XML In SQL Server - Part 4 - Filtering With The Exist Method\n",
                "\n",
                "### _In part four of our series on querying XML in SQL server we look at the exist method and how it can help to filter results or flag for missing elements._\n",
                "\n",
                "Back in [Part 3 of this series](https://barneylawrence.com/2021/03/30/querying-xml-in-sql-server-part-3-handling-repeating-regions-with-the-nodes-method/) we covered what I consider to be the essentials of querying XML. Between the values and nodes methods you can break up XML into rows and extract the values into columns and from there you can do anything you could with data lifted from a standard table in the database.\n",
                "\n",
                "However there’s a lot that you can do that might perform better or look neater if a bit more of the query work was handled inside the XML and a bit less on the SQL side of the equation.\n",
                "\n",
                "You can see what Microsoft has to say about the exist method [here](https://docs.microsoft.com/en-us/sql/t-sql/xml/exist-method-xml-data-type?view=sql-server-ver15) but you can probably guess a lot from the name and what we’ve seen of the [values](https://barneylawrence.com/2021/03/23/querying-xml-in-sql-server-part-2-simple-paths-and-attributes-with-the-value-method/) and [nodes](https://barneylawrence.com/2021/03/30/querying-xml-in-sql-server-part-3-handling-repeating-regions-with-the-nodes-method/) methods so far. Exist runs a query and returns a bit field, giving a 1 if the query produces a result and 0 if the result is empty.\n",
                "\n",
                "Let’s start out as we always do with our sample XML."
            ],
            "metadata": {
                "azdata_cell_guid": "8ba2d5fe-6a9d-4b2e-bf77-8411afe6805a"
            }
        },
        {
            "cell_type": "code",
            "source": [
                "CREATE TABLE #MyXML (MyXML XML NOT NULL);\r\n",
                " \r\n",
                "INSERT INTO #MyXML(MyXML)\r\n",
                "VALUES\r\n",
                "(\r\n",
                "'<?xml version=\"1.0\" encoding=\"UTF-8\"?>\r\n",
                "<items termsofuse=\"https://boardgamegeek.com/xmlapi/termsofuse\">\r\n",
                "   <item type=\"boardgame\" id=\"91514\">\r\n",
                "      <thumbnail>https://cf.geekdo-images.com/R_VAhiLCzl5RXKwSluvEbg__thumb/img/zpzD1TJLfuNEjuTjpPbN1y1mpss=/fit-in/200x150/filters:strip_icc()/pic3271388.jpg</thumbnail>\r\n",
                "      <image>https://cf.geekdo-images.com/R_VAhiLCzl5RXKwSluvEbg__original/img/hVn3HtD2_5vKNjhEBkL1qFB4FaU=/0x0/filters:format(jpeg)/pic3271388.jpg</image>\r\n",
                "      <name type=\"primary\" sortindex=\"1\" value=\"Rhino Hero\" />\r\n",
                "      <name type=\"alternate\" sortindex=\"1\" value=\"Rino Ercolino\" />\r\n",
                "      <name type=\"alternate\" sortindex=\"1\" value=\"Super Rhino!\" />\r\n",
                "      <name type=\"alternate\" sortindex=\"1\" value=\"Super Rino!\" />\r\n",
                "      <description>\r\n",
                "        Super Rhino! presents players with an incredibly heroic &amp;ndash; and regrettably heavy &amp;ndash; rhinoceros who is eager to climb a tall building and leap other tall buildings in a single bound. \r\n",
                "      </description>\r\n",
                "      <yearpublished value=\"2011\" />\r\n",
                "      <minplayers value=\"2\" />\r\n",
                "      <maxplayers value=\"5\" />\r\n",
                "      <poll name=\"suggested_numplayers\" title=\"User Suggested Number of Players\" totalvotes=\"61\">\r\n",
                "         <results numplayers=\"1\">\r\n",
                "            <result value=\"Best\" numvotes=\"0\" />\r\n",
                "            <result value=\"Recommended\" numvotes=\"7\" />\r\n",
                "            <result value=\"Not Recommended\" numvotes=\"29\" />\r\n",
                "         </results>\r\n",
                "         <results numplayers=\"2\">\r\n",
                "            <result value=\"Best\" numvotes=\"10\" />\r\n",
                "            <result value=\"Recommended\" numvotes=\"40\" />\r\n",
                "            <result value=\"Not Recommended\" numvotes=\"3\" />\r\n",
                "         </results>\r\n",
                "         <results numplayers=\"3\">\r\n",
                "            <result value=\"Best\" numvotes=\"44\" />\r\n",
                "            <result value=\"Recommended\" numvotes=\"11\" />\r\n",
                "            <result value=\"Not Recommended\" numvotes=\"0\" />\r\n",
                "         </results>\r\n",
                "         <results numplayers=\"4\">\r\n",
                "            <result value=\"Best\" numvotes=\"18\" />\r\n",
                "            <result value=\"Recommended\" numvotes=\"30\" />\r\n",
                "            <result value=\"Not Recommended\" numvotes=\"1\" />\r\n",
                "         </results>\r\n",
                "         <results numplayers=\"5\">\r\n",
                "            <result value=\"Best\" numvotes=\"5\" />\r\n",
                "            <result value=\"Recommended\" numvotes=\"25\" />\r\n",
                "            <result value=\"Not Recommended\" numvotes=\"13\" />\r\n",
                "         </results>\r\n",
                "         <results numplayers=\"5+\">\r\n",
                "            <result value=\"Best\" numvotes=\"0\" />\r\n",
                "            <result value=\"Recommended\" numvotes=\"3\" />\r\n",
                "            <result value=\"Not Recommended\" numvotes=\"24\" />\r\n",
                "         </results>\r\n",
                "      </poll>\r\n",
                "      <playingtime value=\"15\" />\r\n",
                "      <minplaytime value=\"5\" />\r\n",
                "      <maxplaytime value=\"15\" />\r\n",
                "      <minage value=\"5\" />\r\n",
                "   </item>\r\n",
                "</items>'\r\n",
                ");\r\n",
                " \r\n",
                "SELECT * FROM #MyXML;"
            ],
            "metadata": {
                "azdata_cell_guid": "81a5110b-3995-4bf5-8fde-31e2794a28b7",
                "tags": [
                    "hide_input"
                ]
            },
            "outputs": [
                {
                    "output_type": "display_data",
                    "data": {
                        "text/html": "(1 row affected)"
                    },
                    "metadata": {}
                },
                {
                    "output_type": "display_data",
                    "data": {
                        "text/html": "(1 row affected)"
                    },
                    "metadata": {}
                },
                {
                    "output_type": "display_data",
                    "data": {
                        "text/html": "Total execution time: 00:00:00.014"
                    },
                    "metadata": {}
                },
                {
                    "output_type": "execute_result",
                    "metadata": {},
                    "execution_count": 1,
                    "data": {
                        "application/vnd.dataresource+json": {
                            "schema": {
                                "fields": [
                                    {
                                        "name": "MyXML"
                                    }
                                ]
                            },
                            "data": [
                                {
                                    "0": "<items termsofuse=\"https://boardgamegeek.com/xmlapi/termsofuse\"><item type=\"boardgame\" id=\"91514\"><thumbnail>https://cf.geekdo-images.com/R_VAhiLCzl5RXKwSluvEbg__thumb/img/zpzD1TJLfuNEjuTjpPbN1y1mpss=/fit-in/200x150/filters:strip_icc()/pic3271388.jpg</thumbnail><image>https://cf.geekdo-images.com/R_VAhiLCzl5RXKwSluvEbg__original/img/hVn3HtD2_5vKNjhEBkL1qFB4FaU=/0x0/filters:format(jpeg)/pic3271388.jpg</image><name type=\"primary\" sortindex=\"1\" value=\"Rhino Hero\" /><name type=\"alternate\" sortindex=\"1\" value=\"Rino Ercolino\" /><name type=\"alternate\" sortindex=\"1\" value=\"Super Rhino!\" /><name type=\"alternate\" sortindex=\"1\" value=\"Super Rino!\" /><description>\r\n        Super Rhino! presents players with an incredibly heroic &amp;ndash; and regrettably heavy &amp;ndash; rhinoceros who is eager to climb a tall building and leap other tall buildings in a single bound. \r\n      </description><yearpublished value=\"2011\" /><minplayers value=\"2\" /><maxplayers value=\"5\" /><poll name=\"suggested_numplayers\" title=\"User Suggested Number of Players\" totalvotes=\"61\"><results numplayers=\"1\"><result value=\"Best\" numvotes=\"0\" /><result value=\"Recommended\" numvotes=\"7\" /><result value=\"Not Recommended\" numvotes=\"29\" /></results><results numplayers=\"2\"><result value=\"Best\" numvotes=\"10\" /><result value=\"Recommended\" numvotes=\"40\" /><result value=\"Not Recommended\" numvotes=\"3\" /></results><results numplayers=\"3\"><result value=\"Best\" numvotes=\"44\" /><result value=\"Recommended\" numvotes=\"11\" /><result value=\"Not Recommended\" numvotes=\"0\" /></results><results numplayers=\"4\"><result value=\"Best\" numvotes=\"18\" /><result value=\"Recommended\" numvotes=\"30\" /><result value=\"Not Recommended\" numvotes=\"1\" /></results><results numplayers=\"5\"><result value=\"Best\" numvotes=\"5\" /><result value=\"Recommended\" numvotes=\"25\" /><result value=\"Not Recommended\" numvotes=\"13\" /></results><results numplayers=\"5+\"><result value=\"Best\" numvotes=\"0\" /><result value=\"Recommended\" numvotes=\"3\" /><result value=\"Not Recommended\" numvotes=\"24\" /></results></poll><playingtime value=\"15\" /><minplaytime value=\"5\" /><maxplaytime value=\"15\" /><minage value=\"5\" /></item></items>"
                                }
                            ]
                        },
                        "text/html": [
                            "<table>",
                            "<tr><th>MyXML</th></tr>",
                            "<tr><td>&lt;items termsofuse=&quot;https://boardgamegeek.com/xmlapi/termsofuse&quot;&gt;&lt;item type=&quot;boardgame&quot; id=&quot;91514&quot;&gt;&lt;thumbnail&gt;https://cf.geekdo-images.com/R_VAhiLCzl5RXKwSluvEbg__thumb/img/zpzD1TJLfuNEjuTjpPbN1y1mpss=/fit-in/200x150/filters:strip_icc()/pic3271388.jpg&lt;/thumbnail&gt;&lt;image&gt;https://cf.geekdo-images.com/R_VAhiLCzl5RXKwSluvEbg__original/img/hVn3HtD2_5vKNjhEBkL1qFB4FaU=/0x0/filters:format(jpeg)/pic3271388.jpg&lt;/image&gt;&lt;name type=&quot;primary&quot; sortindex=&quot;1&quot; value=&quot;Rhino Hero&quot; /&gt;&lt;name type=&quot;alternate&quot; sortindex=&quot;1&quot; value=&quot;Rino Ercolino&quot; /&gt;&lt;name type=&quot;alternate&quot; sortindex=&quot;1&quot; value=&quot;Super Rhino!&quot; /&gt;&lt;name type=&quot;alternate&quot; sortindex=&quot;1&quot; value=&quot;Super Rino!&quot; /&gt;&lt;description&gt;\r\n        Super Rhino! presents players with an incredibly heroic &amp;amp;ndash; and regrettably heavy &amp;amp;ndash; rhinoceros who is eager to climb a tall building and leap other tall buildings in a single bound. \r\n      &lt;/description&gt;&lt;yearpublished value=&quot;2011&quot; /&gt;&lt;minplayers value=&quot;2&quot; /&gt;&lt;maxplayers value=&quot;5&quot; /&gt;&lt;poll name=&quot;suggested_numplayers&quot; title=&quot;User Suggested Number of Players&quot; totalvotes=&quot;61&quot;&gt;&lt;results numplayers=&quot;1&quot;&gt;&lt;result value=&quot;Best&quot; numvotes=&quot;0&quot; /&gt;&lt;result value=&quot;Recommended&quot; numvotes=&quot;7&quot; /&gt;&lt;result value=&quot;Not Recommended&quot; numvotes=&quot;29&quot; /&gt;&lt;/results&gt;&lt;results numplayers=&quot;2&quot;&gt;&lt;result value=&quot;Best&quot; numvotes=&quot;10&quot; /&gt;&lt;result value=&quot;Recommended&quot; numvotes=&quot;40&quot; /&gt;&lt;result value=&quot;Not Recommended&quot; numvotes=&quot;3&quot; /&gt;&lt;/results&gt;&lt;results numplayers=&quot;3&quot;&gt;&lt;result value=&quot;Best&quot; numvotes=&quot;44&quot; /&gt;&lt;result value=&quot;Recommended&quot; numvotes=&quot;11&quot; /&gt;&lt;result value=&quot;Not Recommended&quot; numvotes=&quot;0&quot; /&gt;&lt;/results&gt;&lt;results numplayers=&quot;4&quot;&gt;&lt;result value=&quot;Best&quot; numvotes=&quot;18&quot; /&gt;&lt;result value=&quot;Recommended&quot; numvotes=&quot;30&quot; /&gt;&lt;result value=&quot;Not Recommended&quot; numvotes=&quot;1&quot; /&gt;&lt;/results&gt;&lt;results numplayers=&quot;5&quot;&gt;&lt;result value=&quot;Best&quot; numvotes=&quot;5&quot; /&gt;&lt;result value=&quot;Recommended&quot; numvotes=&quot;25&quot; /&gt;&lt;result value=&quot;Not Recommended&quot; numvotes=&quot;13&quot; /&gt;&lt;/results&gt;&lt;results numplayers=&quot;5+&quot;&gt;&lt;result value=&quot;Best&quot; numvotes=&quot;0&quot; /&gt;&lt;result value=&quot;Recommended&quot; numvotes=&quot;3&quot; /&gt;&lt;result value=&quot;Not Recommended&quot; numvotes=&quot;24&quot; /&gt;&lt;/results&gt;&lt;/poll&gt;&lt;playingtime value=&quot;15&quot; /&gt;&lt;minplaytime value=&quot;5&quot; /&gt;&lt;maxplaytime value=&quot;15&quot; /&gt;&lt;minage value=&quot;5&quot; /&gt;&lt;/item&gt;&lt;/items&gt;</td></tr>",
                            "</table>"
                        ]
                    }
                }
            ],
            "execution_count": 1
        },
        {
            "cell_type": "markdown",
            "source": [
                "<span style=\"color: rgb(26, 26, 26); font-family: Merriweather, Georgia, serif; font-size: 16px; background-color: rgb(255, 255, 255);\">Imagine we want to find all the results elements that had a result with more than 15 votes. We might write it like this.</span>"
            ],
            "metadata": {
                "azdata_cell_guid": "a814d896-e9bc-44f9-9ed1-59bfcf9ba091"
            }
        },
        {
            "cell_type": "code",
            "source": [
                "SELECT\r\n",
                "R2.ResultsXML.value('../@numplayers','varchar(50)') AS NumPlayers\r\n",
                "FROM #MyXML AS X\r\n",
                "CROSS APPLY X.MyXML.nodes('/items/item/poll/results/result') AS R2(ResultsXML)\r\n",
                "WHERE R2.ResultsXML.value('./@numvotes','int') > 15;"
            ],
            "metadata": {
                "azdata_cell_guid": "72d8522e-ccd3-4474-a799-b17e7cb1e72f"
            },
            "outputs": [
                {
                    "output_type": "display_data",
                    "data": {
                        "text/html": "(7 rows affected)"
                    },
                    "metadata": {}
                },
                {
                    "output_type": "display_data",
                    "data": {
                        "text/html": "Total execution time: 00:00:00.023"
                    },
                    "metadata": {}
                },
                {
                    "output_type": "execute_result",
                    "metadata": {},
                    "execution_count": 2,
                    "data": {
                        "application/vnd.dataresource+json": {
                            "schema": {
                                "fields": [
                                    {
                                        "name": "NumPlayers"
                                    }
                                ]
                            },
                            "data": [
                                {
                                    "0": "1"
                                },
                                {
                                    "0": "2"
                                },
                                {
                                    "0": "3"
                                },
                                {
                                    "0": "4"
                                },
                                {
                                    "0": "4"
                                },
                                {
                                    "0": "5"
                                },
                                {
                                    "0": "5+"
                                }
                            ]
                        },
                        "text/html": [
                            "<table>",
                            "<tr><th>NumPlayers</th></tr>",
                            "<tr><td>1</td></tr>",
                            "<tr><td>2</td></tr>",
                            "<tr><td>3</td></tr>",
                            "<tr><td>4</td></tr>",
                            "<tr><td>4</td></tr>",
                            "<tr><td>5</td></tr>",
                            "<tr><td>5+</td></tr>",
                            "</table>"
                        ]
                    }
                }
            ],
            "execution_count": 2
        },
        {
            "cell_type": "markdown",
            "source": [
                "But if you run that you’ll notice we get an extra row because Numplayers =4 has two different results that meet this condition. We could of course sweep this issue under the carpet with DISTINCT but that’s not going to perform well with larger data sets. We might also be able to produce something more complicated using EXISTS like this."
            ],
            "metadata": {
                "azdata_cell_guid": "00dc7496-2586-4f0f-b450-7c651f352cfa"
            }
        },
        {
            "cell_type": "code",
            "source": [
                "SELECT\r\n",
                "R.ResultXML.query('.') AS ResultLevelXML,\r\n",
                "R.ResultXML.value('./@numplayers','varchar(50)') AS NumPlayers\r\n",
                "FROM #MyXML AS X\r\n",
                "CROSS APPLY X.MyXML.nodes('/items/item/poll/results') AS R(ResultXML)\r\n",
                "WHERE EXISTS (\r\n",
                "SELECT 1\r\n",
                "FROM R.ResultXML.nodes('./result') AS R2(ResultsXML)\r\n",
                "WHERE R2.ResultsXML.value('./@numvotes','int') > 15\r\n",
                ");"
            ],
            "metadata": {
                "azdata_cell_guid": "3a9861f6-16d8-4379-a3f2-ba59aad432eb"
            },
            "outputs": [],
            "execution_count": null
        },
        {
            "cell_type": "markdown",
            "source": [
                "That’s a lot more code to type out, it’s harder to read and a quick peek at the query plans for the above two makes me think that second query is going to get ugly if you threw more data at it.\n",
                "\n",
                "## How can I use the exist method to filter results from XML in SQL Server?\n",
                "\n",
                "We can use exist to test a piece of xml to see if a matching element exists inside it, any time a result is returned we get a 1 and if nothing is found we get a 0. This can then be used to test within the WHERE clause of a TSQL statement like the one below."
            ],
            "metadata": {
                "azdata_cell_guid": "28a0600d-9477-422c-b334-26508d02424b"
            }
        },
        {
            "cell_type": "code",
            "source": [
                "SELECT\r\n",
                "R2.ResultsXML.value('./@numplayers','varchar(50)') AS NumPlayers\r\n",
                "FROM #MyXML AS X\r\n",
                "CROSS APPLY X.MyXML.nodes('/items/item/poll/results') AS R2(ResultsXML)\r\n",
                "WHERE ResultsXML.exist('./result[@numvotes > 15]') = 1;"
            ],
            "metadata": {
                "azdata_cell_guid": "28b5ae06-3763-41f1-9053-bb6145e6e56d"
            },
            "outputs": [],
            "execution_count": null
        },
        {
            "cell_type": "markdown",
            "source": [
                "This looks a lot neater to me both in code view and as a query plan. Hopefully I’ll get the chance to do some performance tests in a later post in this series once I’ve built a suitable data set to test against. Anecdotally I can confirm I’ve had no issues using this approach in a work environment.\n",
                "\n",
                "The exist method doesn’t have to be used in the where clause we can use it to give us useful columns in our results too.\n",
                "\n",
                "## How can I use the exist method to test for existence of XML elements in SQL Server?\n",
                "\n",
                "The exist method can be added to a column definition to show if a particular element or value exists within the XML without filtering it out. Consider this example that lists all results and gives us a flag to show if any of the result level elements had 30 or more votes."
            ],
            "metadata": {
                "azdata_cell_guid": "d7a94eaf-7eec-47c1-b047-808a4eaba65f"
            }
        },
        {
            "cell_type": "code",
            "source": [
                "SELECT\r\n",
                "R2.ResultsXML.value('./@numplayers','varchar(50)') AS NumPlayers,\r\n",
                "ResultsXML.exist('./result[@numvotes > 30]') AS HasThirtyVotes\r\n",
                "FROM #MyXML AS X\r\n",
                "CROSS APPLY X.MyXML.nodes('/items/item/poll/results') AS R2(ResultsXML);"
            ],
            "metadata": {
                "azdata_cell_guid": "23ca4eba-35d1-49ac-93d8-06699496d2dd"
            },
            "outputs": [
                {
                    "output_type": "display_data",
                    "data": {
                        "text/html": "(6 rows affected)"
                    },
                    "metadata": {}
                },
                {
                    "output_type": "display_data",
                    "data": {
                        "text/html": "Total execution time: 00:00:00.025"
                    },
                    "metadata": {}
                },
                {
                    "output_type": "execute_result",
                    "metadata": {},
                    "execution_count": 3,
                    "data": {
                        "application/vnd.dataresource+json": {
                            "schema": {
                                "fields": [
                                    {
                                        "name": "NumPlayers"
                                    },
                                    {
                                        "name": "HasThirtyVotes"
                                    }
                                ]
                            },
                            "data": [
                                {
                                    "0": "1",
                                    "1": "0"
                                },
                                {
                                    "0": "2",
                                    "1": "1"
                                },
                                {
                                    "0": "3",
                                    "1": "1"
                                },
                                {
                                    "0": "4",
                                    "1": "0"
                                },
                                {
                                    "0": "5",
                                    "1": "0"
                                },
                                {
                                    "0": "5+",
                                    "1": "0"
                                }
                            ]
                        },
                        "text/html": [
                            "<table>",
                            "<tr><th>NumPlayers</th><th>HasThirtyVotes</th></tr>",
                            "<tr><td>1</td><td>0</td></tr>",
                            "<tr><td>2</td><td>1</td></tr>",
                            "<tr><td>3</td><td>1</td></tr>",
                            "<tr><td>4</td><td>0</td></tr>",
                            "<tr><td>5</td><td>0</td></tr>",
                            "<tr><td>5+</td><td>0</td></tr>",
                            "</table>"
                        ]
                    }
                }
            ],
            "execution_count": 3
        },
        {
            "cell_type": "markdown",
            "source": [
                "This approach can be really useful if there are optional elements to a piece of XML. I’ve used this where the XML represents a process performed in distinct steps and there’s a need to see which of those steps of the process have been started without needing any more detail. Exist allows you to quickly dip in and see what’s there and what isn’t without going any further than that.\n",
                "\n",
                "## Why Am I Getting Errors When Using The Node and Exist Methods Together?\n",
                "\n",
                "A word of warning, while testing the above code I received syntax errors in SSMS like the one in the image below.  \n",
                "The good news is this appears to be an issue with SSMS rather than the code, it runs just fine but it is a little off putting to be told there’s a problem.\n",
                "\n",
                "![](https://sqlbarney.files.wordpress.com/2021/04/image.png?w=840)\n",
                "\n",
                "That’s all for this post, next time round we’re going to delve deeper into what more we can do inside XML with the query method.\n",
                "\n",
                "Querying XML In SQL Server Series\n",
                "\n",
                "- [Part 1 – Introduction](https://barneylawrence.com/2021/03/15/querying-xml-in-sql-server-part-1-introduction/)\n",
                "- [Part 2 – Simple Paths and Attributes With the Value Method](https://barneylawrence.com/2021/03/23/querying-xml-in-sql-server-part-2-simple-paths-and-attributes-with-the-value-method/)\n",
                "- [Part 3 – Handling Repeating Regions With the Nodes Method](https://barneylawrence.com/2021/03/30/querying-xml-in-sql-server-part-3-handling-repeating-regions-with-the-nodes-method/)\n",
                "- [Part 4 – Filtering With The Exist Method](https://barneylawrence.com/2021/04/07/querying-xml-in-sql-server-part-4-filtering-with-the-exist-method/)"
            ],
            "metadata": {
                "azdata_cell_guid": "ed5a2449-66aa-4d3f-a13d-365f7f874a2b"
            }
        }
    ]
}